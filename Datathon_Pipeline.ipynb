{
  "nbformat": 4,
  "nbformat_minor": 0,
  "metadata": {
    "colab": {
      "name": "Datathon_Pipeline.ipynb",
      "provenance": [],
      "collapsed_sections": [],
      "toc_visible": true,
      "authorship_tag": "ABX9TyOMH+SalmnQigFhOAM3FI23",
      "include_colab_link": true
    },
    "kernelspec": {
      "name": "python3",
      "display_name": "Python 3"
    },
    "language_info": {
      "name": "python"
    }
  },
  "cells": [
    {
      "cell_type": "markdown",
      "metadata": {
        "id": "view-in-github",
        "colab_type": "text"
      },
      "source": [
        "<a href=\"https://colab.research.google.com/github/faisalisafk/Robi_Datathon_2.0/blob/main/Datathon_Pipeline.ipynb\" target=\"_parent\"><img src=\"https://colab.research.google.com/assets/colab-badge.svg\" alt=\"Open In Colab\"/></a>"
      ]
    },
    {
      "cell_type": "markdown",
      "source": [
        "# Import Important Libraries"
      ],
      "metadata": {
        "id": "7Ptx5QRJbrqe"
      }
    },
    {
      "cell_type": "code",
      "source": [
        "!pip install catboost"
      ],
      "metadata": {
        "colab": {
          "base_uri": "https://localhost:8080/"
        },
        "id": "2aaTGdxckDqy",
        "outputId": "8615f5de-b420-49ed-af24-960ca1623d3d"
      },
      "execution_count": 1,
      "outputs": [
        {
          "output_type": "stream",
          "name": "stdout",
          "text": [
            "Looking in indexes: https://pypi.org/simple, https://us-python.pkg.dev/colab-wheels/public/simple/\n",
            "Requirement already satisfied: catboost in /usr/local/lib/python3.7/dist-packages (1.0.6)\n",
            "Requirement already satisfied: numpy>=1.16.0 in /usr/local/lib/python3.7/dist-packages (from catboost) (1.21.6)\n",
            "Requirement already satisfied: graphviz in /usr/local/lib/python3.7/dist-packages (from catboost) (0.10.1)\n",
            "Requirement already satisfied: plotly in /usr/local/lib/python3.7/dist-packages (from catboost) (5.5.0)\n",
            "Requirement already satisfied: scipy in /usr/local/lib/python3.7/dist-packages (from catboost) (1.4.1)\n",
            "Requirement already satisfied: pandas>=0.24.0 in /usr/local/lib/python3.7/dist-packages (from catboost) (1.3.5)\n",
            "Requirement already satisfied: matplotlib in /usr/local/lib/python3.7/dist-packages (from catboost) (3.2.2)\n",
            "Requirement already satisfied: six in /usr/local/lib/python3.7/dist-packages (from catboost) (1.15.0)\n",
            "Requirement already satisfied: pytz>=2017.3 in /usr/local/lib/python3.7/dist-packages (from pandas>=0.24.0->catboost) (2022.1)\n",
            "Requirement already satisfied: python-dateutil>=2.7.3 in /usr/local/lib/python3.7/dist-packages (from pandas>=0.24.0->catboost) (2.8.2)\n",
            "Requirement already satisfied: pyparsing!=2.0.4,!=2.1.2,!=2.1.6,>=2.0.1 in /usr/local/lib/python3.7/dist-packages (from matplotlib->catboost) (3.0.9)\n",
            "Requirement already satisfied: cycler>=0.10 in /usr/local/lib/python3.7/dist-packages (from matplotlib->catboost) (0.11.0)\n",
            "Requirement already satisfied: kiwisolver>=1.0.1 in /usr/local/lib/python3.7/dist-packages (from matplotlib->catboost) (1.4.2)\n",
            "Requirement already satisfied: typing-extensions in /usr/local/lib/python3.7/dist-packages (from kiwisolver>=1.0.1->matplotlib->catboost) (4.2.0)\n",
            "Requirement already satisfied: tenacity>=6.2.0 in /usr/local/lib/python3.7/dist-packages (from plotly->catboost) (8.0.1)\n"
          ]
        }
      ]
    },
    {
      "cell_type": "code",
      "source": [
        "import numpy as np \n",
        "import pandas as pd \n",
        "import matplotlib.pyplot as plt\n",
        "import seaborn as sns\n",
        "import plotly.express as px\n",
        "import plotly.graph_objects as go\n",
        "from scipy.stats import chi2_contingency\n",
        "from sklearn.metrics import roc_auc_score\n",
        "from sklearn.model_selection import train_test_split\n",
        "from sklearn.feature_selection import SelectKBest\n",
        "from sklearn.feature_selection import mutual_info_classif,f_classif\n",
        "from sklearn.model_selection import cross_val_score,StratifiedKFold\n",
        "from xgboost import XGBClassifier\n",
        "from sklearn import metrics\n",
        "from sklearn.svm import SVC\n",
        "from sklearn.ensemble import RandomForestClassifier\n",
        "from sklearn.tree import DecisionTreeClassifier\n",
        "from sklearn.linear_model import LogisticRegression\n",
        "from sklearn.ensemble import GradientBoostingClassifier\n",
        "from sklearn.ensemble import RandomForestClassifier\n",
        "from sklearn.tree import DecisionTreeClassifier\n",
        "from sklearn.neighbors import KNeighborsClassifier\n",
        "from sklearn.metrics import confusion_matrix, accuracy_score\n",
        "from sklearn.naive_bayes import GaussianNB\n",
        "from sklearn.preprocessing import StandardScaler,RobustScaler\n",
        "from sklearn.preprocessing import LabelEncoder\n",
        "from sklearn.ensemble import StackingClassifier,VotingClassifier\n",
        "from sklearn.metrics import roc_auc_score, roc_curve, confusion_matrix, ConfusionMatrixDisplay\n",
        "pd.set_option('display.max_rows', 100)\n",
        "pd.set_option('display.max_columns', 100)\n",
        "pd.set_option('display.width', 100)"
      ],
      "metadata": {
        "id": "APjxiXaZbmCC"
      },
      "execution_count": 2,
      "outputs": []
    },
    {
      "cell_type": "markdown",
      "source": [
        "# Load Dataset"
      ],
      "metadata": {
        "id": "0ARSuUpIcEu_"
      }
    },
    {
      "cell_type": "code",
      "source": [
        "train_data=pd.read_csv('https://raw.githubusercontent.com/faisalisafk/Robi_Datathon_2.0/main/train.csv')\n",
        "test_data=pd.read_csv('https://raw.githubusercontent.com/faisalisafk/Robi_Datathon_2.0/main/test.csv')\n",
        "submission=pd.read_csv('https://raw.githubusercontent.com/faisalisafk/Robi_Datathon_2.0/main/sample_submission.csv')\n",
        "train_data.head() "
      ],
      "metadata": {
        "colab": {
          "base_uri": "https://localhost:8080/",
          "height": 357
        },
        "id": "USVquZZ-cH73",
        "outputId": "d80bf7fe-35ed-4fc5-9f73-f1f31d066cf5"
      },
      "execution_count": 3,
      "outputs": [
        {
          "output_type": "execute_result",
          "data": {
            "text/plain": [
              "                                                  id gender s11 s12  s13 s16 s17 s18  s48 s52 s53  \\\n",
              "0  b'gAAAAABinOicS09vrmgh0_JyEHihI13ptO0rCyHP7l76...      M   Y   N    1   D   D   B    0   1       \n",
              "1  b'gAAAAABinOiWGC1WhR6WYP0DA5ssGv9rIekrWUwCdJ8F...      M   Y   Y    1   D   D   B    1   1       \n",
              "2  b'gAAAAABinOibTcOBFIVeA4nVF3FuFz_QX3ZlPPFc21gS...      M   Y   Y    1   D   D   B    0   1       \n",
              "3  b'gAAAAABinOig-g3-Q1ggjlMhfUSdn21Aj5yVVeVvXbis...      F   Y   Y    1   D   D   B    0   1       \n",
              "4  b'gAAAAABinOiXdoaNUzihOSbyY1tjWtd5EgMaXkkvH6SV...      M   N   Y    1   B   D   D    1   l       \n",
              "\n",
              "   s54  s55  s56  s57 s58  s59 s69    s70 s71         n1        n2  n3        n4         n5  \\\n",
              "0  NaN   kK  NaN  NaN   B  NaN   x  op: D   b  16.144666  1.989441   2  2.318385 -32.839277   \n",
              "1  NaN  NaN  NaN  NaN   B  NaN   x  op: D   b   7.144558  0.844866   3  6.197768 -32.576597   \n",
              "2  NaN  NaN  NaN  NaN   B  NaN   x  op: D   b   6.923236  1.042018   6  7.824401 -32.510544   \n",
              "3  NaN  NaN  NaN  NaN   B  NaN   x  op: D   b   5.749840  0.781439   2  8.256767 -32.398679   \n",
              "4  NaN  NaN  NaN  NaN   B  NaN  ~1  op: D   d  14.771959  1.248188   3  2.300011 -32.396746   \n",
              "\n",
              "         n6        n7        n8        n9       n10       n11  n12  n13       n14  n15  label  \n",
              "0  0.017176 -9.126056  1.732291  3.698504  4.804517  1.544484    0    0  0.631220    5      0  \n",
              "1  0.013857 -9.098287  1.505885  6.791357  6.110416  1.712354    0    0  0.392746    3      1  \n",
              "2  0.013943 -9.234894  1.503828  4.109685  3.953226  1.804260    0    0  0.222537    2      0  \n",
              "3  0.010387 -9.378025  1.485863  7.265876  4.559419  1.537645    0    0  0.154409    4      0  \n",
              "4  0.016289 -9.261962  1.619210  3.737647  4.052003  1.637831    0    1  0.737560    1      0  "
            ],
            "text/html": [
              "\n",
              "  <div id=\"df-aa2f83a3-8c67-4402-add0-e00b0c82557b\">\n",
              "    <div class=\"colab-df-container\">\n",
              "      <div>\n",
              "<style scoped>\n",
              "    .dataframe tbody tr th:only-of-type {\n",
              "        vertical-align: middle;\n",
              "    }\n",
              "\n",
              "    .dataframe tbody tr th {\n",
              "        vertical-align: top;\n",
              "    }\n",
              "\n",
              "    .dataframe thead th {\n",
              "        text-align: right;\n",
              "    }\n",
              "</style>\n",
              "<table border=\"1\" class=\"dataframe\">\n",
              "  <thead>\n",
              "    <tr style=\"text-align: right;\">\n",
              "      <th></th>\n",
              "      <th>id</th>\n",
              "      <th>gender</th>\n",
              "      <th>s11</th>\n",
              "      <th>s12</th>\n",
              "      <th>s13</th>\n",
              "      <th>s16</th>\n",
              "      <th>s17</th>\n",
              "      <th>s18</th>\n",
              "      <th>s48</th>\n",
              "      <th>s52</th>\n",
              "      <th>s53</th>\n",
              "      <th>s54</th>\n",
              "      <th>s55</th>\n",
              "      <th>s56</th>\n",
              "      <th>s57</th>\n",
              "      <th>s58</th>\n",
              "      <th>s59</th>\n",
              "      <th>s69</th>\n",
              "      <th>s70</th>\n",
              "      <th>s71</th>\n",
              "      <th>n1</th>\n",
              "      <th>n2</th>\n",
              "      <th>n3</th>\n",
              "      <th>n4</th>\n",
              "      <th>n5</th>\n",
              "      <th>n6</th>\n",
              "      <th>n7</th>\n",
              "      <th>n8</th>\n",
              "      <th>n9</th>\n",
              "      <th>n10</th>\n",
              "      <th>n11</th>\n",
              "      <th>n12</th>\n",
              "      <th>n13</th>\n",
              "      <th>n14</th>\n",
              "      <th>n15</th>\n",
              "      <th>label</th>\n",
              "    </tr>\n",
              "  </thead>\n",
              "  <tbody>\n",
              "    <tr>\n",
              "      <th>0</th>\n",
              "      <td>b'gAAAAABinOicS09vrmgh0_JyEHihI13ptO0rCyHP7l76...</td>\n",
              "      <td>M</td>\n",
              "      <td>Y</td>\n",
              "      <td>N</td>\n",
              "      <td>1</td>\n",
              "      <td>D</td>\n",
              "      <td>D</td>\n",
              "      <td>B</td>\n",
              "      <td>0</td>\n",
              "      <td>1</td>\n",
              "      <td></td>\n",
              "      <td>NaN</td>\n",
              "      <td>kK</td>\n",
              "      <td>NaN</td>\n",
              "      <td>NaN</td>\n",
              "      <td>B</td>\n",
              "      <td>NaN</td>\n",
              "      <td>x</td>\n",
              "      <td>op: D</td>\n",
              "      <td>b</td>\n",
              "      <td>16.144666</td>\n",
              "      <td>1.989441</td>\n",
              "      <td>2</td>\n",
              "      <td>2.318385</td>\n",
              "      <td>-32.839277</td>\n",
              "      <td>0.017176</td>\n",
              "      <td>-9.126056</td>\n",
              "      <td>1.732291</td>\n",
              "      <td>3.698504</td>\n",
              "      <td>4.804517</td>\n",
              "      <td>1.544484</td>\n",
              "      <td>0</td>\n",
              "      <td>0</td>\n",
              "      <td>0.631220</td>\n",
              "      <td>5</td>\n",
              "      <td>0</td>\n",
              "    </tr>\n",
              "    <tr>\n",
              "      <th>1</th>\n",
              "      <td>b'gAAAAABinOiWGC1WhR6WYP0DA5ssGv9rIekrWUwCdJ8F...</td>\n",
              "      <td>M</td>\n",
              "      <td>Y</td>\n",
              "      <td>Y</td>\n",
              "      <td>1</td>\n",
              "      <td>D</td>\n",
              "      <td>D</td>\n",
              "      <td>B</td>\n",
              "      <td>1</td>\n",
              "      <td>1</td>\n",
              "      <td></td>\n",
              "      <td>NaN</td>\n",
              "      <td>NaN</td>\n",
              "      <td>NaN</td>\n",
              "      <td>NaN</td>\n",
              "      <td>B</td>\n",
              "      <td>NaN</td>\n",
              "      <td>x</td>\n",
              "      <td>op: D</td>\n",
              "      <td>b</td>\n",
              "      <td>7.144558</td>\n",
              "      <td>0.844866</td>\n",
              "      <td>3</td>\n",
              "      <td>6.197768</td>\n",
              "      <td>-32.576597</td>\n",
              "      <td>0.013857</td>\n",
              "      <td>-9.098287</td>\n",
              "      <td>1.505885</td>\n",
              "      <td>6.791357</td>\n",
              "      <td>6.110416</td>\n",
              "      <td>1.712354</td>\n",
              "      <td>0</td>\n",
              "      <td>0</td>\n",
              "      <td>0.392746</td>\n",
              "      <td>3</td>\n",
              "      <td>1</td>\n",
              "    </tr>\n",
              "    <tr>\n",
              "      <th>2</th>\n",
              "      <td>b'gAAAAABinOibTcOBFIVeA4nVF3FuFz_QX3ZlPPFc21gS...</td>\n",
              "      <td>M</td>\n",
              "      <td>Y</td>\n",
              "      <td>Y</td>\n",
              "      <td>1</td>\n",
              "      <td>D</td>\n",
              "      <td>D</td>\n",
              "      <td>B</td>\n",
              "      <td>0</td>\n",
              "      <td>1</td>\n",
              "      <td></td>\n",
              "      <td>NaN</td>\n",
              "      <td>NaN</td>\n",
              "      <td>NaN</td>\n",
              "      <td>NaN</td>\n",
              "      <td>B</td>\n",
              "      <td>NaN</td>\n",
              "      <td>x</td>\n",
              "      <td>op: D</td>\n",
              "      <td>b</td>\n",
              "      <td>6.923236</td>\n",
              "      <td>1.042018</td>\n",
              "      <td>6</td>\n",
              "      <td>7.824401</td>\n",
              "      <td>-32.510544</td>\n",
              "      <td>0.013943</td>\n",
              "      <td>-9.234894</td>\n",
              "      <td>1.503828</td>\n",
              "      <td>4.109685</td>\n",
              "      <td>3.953226</td>\n",
              "      <td>1.804260</td>\n",
              "      <td>0</td>\n",
              "      <td>0</td>\n",
              "      <td>0.222537</td>\n",
              "      <td>2</td>\n",
              "      <td>0</td>\n",
              "    </tr>\n",
              "    <tr>\n",
              "      <th>3</th>\n",
              "      <td>b'gAAAAABinOig-g3-Q1ggjlMhfUSdn21Aj5yVVeVvXbis...</td>\n",
              "      <td>F</td>\n",
              "      <td>Y</td>\n",
              "      <td>Y</td>\n",
              "      <td>1</td>\n",
              "      <td>D</td>\n",
              "      <td>D</td>\n",
              "      <td>B</td>\n",
              "      <td>0</td>\n",
              "      <td>1</td>\n",
              "      <td></td>\n",
              "      <td>NaN</td>\n",
              "      <td>NaN</td>\n",
              "      <td>NaN</td>\n",
              "      <td>NaN</td>\n",
              "      <td>B</td>\n",
              "      <td>NaN</td>\n",
              "      <td>x</td>\n",
              "      <td>op: D</td>\n",
              "      <td>b</td>\n",
              "      <td>5.749840</td>\n",
              "      <td>0.781439</td>\n",
              "      <td>2</td>\n",
              "      <td>8.256767</td>\n",
              "      <td>-32.398679</td>\n",
              "      <td>0.010387</td>\n",
              "      <td>-9.378025</td>\n",
              "      <td>1.485863</td>\n",
              "      <td>7.265876</td>\n",
              "      <td>4.559419</td>\n",
              "      <td>1.537645</td>\n",
              "      <td>0</td>\n",
              "      <td>0</td>\n",
              "      <td>0.154409</td>\n",
              "      <td>4</td>\n",
              "      <td>0</td>\n",
              "    </tr>\n",
              "    <tr>\n",
              "      <th>4</th>\n",
              "      <td>b'gAAAAABinOiXdoaNUzihOSbyY1tjWtd5EgMaXkkvH6SV...</td>\n",
              "      <td>M</td>\n",
              "      <td>N</td>\n",
              "      <td>Y</td>\n",
              "      <td>1</td>\n",
              "      <td>B</td>\n",
              "      <td>D</td>\n",
              "      <td>D</td>\n",
              "      <td>1</td>\n",
              "      <td>l</td>\n",
              "      <td></td>\n",
              "      <td>NaN</td>\n",
              "      <td>NaN</td>\n",
              "      <td>NaN</td>\n",
              "      <td>NaN</td>\n",
              "      <td>B</td>\n",
              "      <td>NaN</td>\n",
              "      <td>~1</td>\n",
              "      <td>op: D</td>\n",
              "      <td>d</td>\n",
              "      <td>14.771959</td>\n",
              "      <td>1.248188</td>\n",
              "      <td>3</td>\n",
              "      <td>2.300011</td>\n",
              "      <td>-32.396746</td>\n",
              "      <td>0.016289</td>\n",
              "      <td>-9.261962</td>\n",
              "      <td>1.619210</td>\n",
              "      <td>3.737647</td>\n",
              "      <td>4.052003</td>\n",
              "      <td>1.637831</td>\n",
              "      <td>0</td>\n",
              "      <td>1</td>\n",
              "      <td>0.737560</td>\n",
              "      <td>1</td>\n",
              "      <td>0</td>\n",
              "    </tr>\n",
              "  </tbody>\n",
              "</table>\n",
              "</div>\n",
              "      <button class=\"colab-df-convert\" onclick=\"convertToInteractive('df-aa2f83a3-8c67-4402-add0-e00b0c82557b')\"\n",
              "              title=\"Convert this dataframe to an interactive table.\"\n",
              "              style=\"display:none;\">\n",
              "        \n",
              "  <svg xmlns=\"http://www.w3.org/2000/svg\" height=\"24px\"viewBox=\"0 0 24 24\"\n",
              "       width=\"24px\">\n",
              "    <path d=\"M0 0h24v24H0V0z\" fill=\"none\"/>\n",
              "    <path d=\"M18.56 5.44l.94 2.06.94-2.06 2.06-.94-2.06-.94-.94-2.06-.94 2.06-2.06.94zm-11 1L8.5 8.5l.94-2.06 2.06-.94-2.06-.94L8.5 2.5l-.94 2.06-2.06.94zm10 10l.94 2.06.94-2.06 2.06-.94-2.06-.94-.94-2.06-.94 2.06-2.06.94z\"/><path d=\"M17.41 7.96l-1.37-1.37c-.4-.4-.92-.59-1.43-.59-.52 0-1.04.2-1.43.59L10.3 9.45l-7.72 7.72c-.78.78-.78 2.05 0 2.83L4 21.41c.39.39.9.59 1.41.59.51 0 1.02-.2 1.41-.59l7.78-7.78 2.81-2.81c.8-.78.8-2.07 0-2.86zM5.41 20L4 18.59l7.72-7.72 1.47 1.35L5.41 20z\"/>\n",
              "  </svg>\n",
              "      </button>\n",
              "      \n",
              "  <style>\n",
              "    .colab-df-container {\n",
              "      display:flex;\n",
              "      flex-wrap:wrap;\n",
              "      gap: 12px;\n",
              "    }\n",
              "\n",
              "    .colab-df-convert {\n",
              "      background-color: #E8F0FE;\n",
              "      border: none;\n",
              "      border-radius: 50%;\n",
              "      cursor: pointer;\n",
              "      display: none;\n",
              "      fill: #1967D2;\n",
              "      height: 32px;\n",
              "      padding: 0 0 0 0;\n",
              "      width: 32px;\n",
              "    }\n",
              "\n",
              "    .colab-df-convert:hover {\n",
              "      background-color: #E2EBFA;\n",
              "      box-shadow: 0px 1px 2px rgba(60, 64, 67, 0.3), 0px 1px 3px 1px rgba(60, 64, 67, 0.15);\n",
              "      fill: #174EA6;\n",
              "    }\n",
              "\n",
              "    [theme=dark] .colab-df-convert {\n",
              "      background-color: #3B4455;\n",
              "      fill: #D2E3FC;\n",
              "    }\n",
              "\n",
              "    [theme=dark] .colab-df-convert:hover {\n",
              "      background-color: #434B5C;\n",
              "      box-shadow: 0px 1px 3px 1px rgba(0, 0, 0, 0.15);\n",
              "      filter: drop-shadow(0px 1px 2px rgba(0, 0, 0, 0.3));\n",
              "      fill: #FFFFFF;\n",
              "    }\n",
              "  </style>\n",
              "\n",
              "      <script>\n",
              "        const buttonEl =\n",
              "          document.querySelector('#df-aa2f83a3-8c67-4402-add0-e00b0c82557b button.colab-df-convert');\n",
              "        buttonEl.style.display =\n",
              "          google.colab.kernel.accessAllowed ? 'block' : 'none';\n",
              "\n",
              "        async function convertToInteractive(key) {\n",
              "          const element = document.querySelector('#df-aa2f83a3-8c67-4402-add0-e00b0c82557b');\n",
              "          const dataTable =\n",
              "            await google.colab.kernel.invokeFunction('convertToInteractive',\n",
              "                                                     [key], {});\n",
              "          if (!dataTable) return;\n",
              "\n",
              "          const docLinkHtml = 'Like what you see? Visit the ' +\n",
              "            '<a target=\"_blank\" href=https://colab.research.google.com/notebooks/data_table.ipynb>data table notebook</a>'\n",
              "            + ' to learn more about interactive tables.';\n",
              "          element.innerHTML = '';\n",
              "          dataTable['output_type'] = 'display_data';\n",
              "          await google.colab.output.renderOutput(dataTable, element);\n",
              "          const docLink = document.createElement('div');\n",
              "          docLink.innerHTML = docLinkHtml;\n",
              "          element.appendChild(docLink);\n",
              "        }\n",
              "      </script>\n",
              "    </div>\n",
              "  </div>\n",
              "  "
            ]
          },
          "metadata": {},
          "execution_count": 3
        }
      ]
    },
    {
      "cell_type": "markdown",
      "source": [
        "# Statisical Analysis & EDA"
      ],
      "metadata": {
        "id": "7X1VP14ece9Q"
      }
    },
    {
      "cell_type": "code",
      "source": [
        "train_data.info()"
      ],
      "metadata": {
        "colab": {
          "base_uri": "https://localhost:8080/"
        },
        "id": "TfNX9_IUcjpA",
        "outputId": "b85c5f21-640a-4ae8-bbb6-44ae9ef96382"
      },
      "execution_count": 4,
      "outputs": [
        {
          "output_type": "stream",
          "name": "stdout",
          "text": [
            "<class 'pandas.core.frame.DataFrame'>\n",
            "RangeIndex: 28322 entries, 0 to 28321\n",
            "Data columns (total 36 columns):\n",
            " #   Column  Non-Null Count  Dtype  \n",
            "---  ------  --------------  -----  \n",
            " 0   id      28322 non-null  object \n",
            " 1   gender  28322 non-null  object \n",
            " 2   s11     28322 non-null  object \n",
            " 3   s12     28322 non-null  object \n",
            " 4   s13     28322 non-null  int64  \n",
            " 5   s16     28322 non-null  object \n",
            " 6   s17     28322 non-null  object \n",
            " 7   s18     28322 non-null  object \n",
            " 8   s48     28322 non-null  int64  \n",
            " 9   s52     28322 non-null  object \n",
            " 10  s53     28322 non-null  object \n",
            " 11  s54     2628 non-null   object \n",
            " 12  s55     3206 non-null   object \n",
            " 13  s56     0 non-null      float64\n",
            " 14  s57     0 non-null      float64\n",
            " 15  s58     28322 non-null  object \n",
            " 16  s59     0 non-null      float64\n",
            " 17  s69     28322 non-null  object \n",
            " 18  s70     28322 non-null  object \n",
            " 19  s71     28322 non-null  object \n",
            " 20  n1      28322 non-null  float64\n",
            " 21  n2      28322 non-null  float64\n",
            " 22  n3      28322 non-null  int64  \n",
            " 23  n4      28322 non-null  float64\n",
            " 24  n5      28322 non-null  float64\n",
            " 25  n6      28322 non-null  float64\n",
            " 26  n7      28322 non-null  float64\n",
            " 27  n8      28322 non-null  float64\n",
            " 28  n9      28322 non-null  float64\n",
            " 29  n10     28322 non-null  float64\n",
            " 30  n11     28322 non-null  float64\n",
            " 31  n12     28322 non-null  int64  \n",
            " 32  n13     28322 non-null  int64  \n",
            " 33  n14     28322 non-null  float64\n",
            " 34  n15     28322 non-null  int64  \n",
            " 35  label   28322 non-null  int64  \n",
            "dtypes: float64(14), int64(7), object(15)\n",
            "memory usage: 7.8+ MB\n"
          ]
        }
      ]
    },
    {
      "cell_type": "code",
      "source": [
        "test_data.info()"
      ],
      "metadata": {
        "colab": {
          "base_uri": "https://localhost:8080/"
        },
        "id": "iJHRN3Zrclna",
        "outputId": "e1494a66-6b8f-41aa-94a5-452c8791d2b6"
      },
      "execution_count": 5,
      "outputs": [
        {
          "output_type": "stream",
          "name": "stdout",
          "text": [
            "<class 'pandas.core.frame.DataFrame'>\n",
            "RangeIndex: 85065 entries, 0 to 85064\n",
            "Data columns (total 35 columns):\n",
            " #   Column  Non-Null Count  Dtype  \n",
            "---  ------  --------------  -----  \n",
            " 0   id      85065 non-null  object \n",
            " 1   gender  85065 non-null  object \n",
            " 2   s11     85065 non-null  object \n",
            " 3   s12     85065 non-null  object \n",
            " 4   s13     85065 non-null  int64  \n",
            " 5   s16     85065 non-null  object \n",
            " 6   s17     85065 non-null  object \n",
            " 7   s18     85065 non-null  object \n",
            " 8   s48     85065 non-null  int64  \n",
            " 9   s52     85065 non-null  object \n",
            " 10  s53     85065 non-null  object \n",
            " 11  s54     7743 non-null   object \n",
            " 12  s55     9421 non-null   object \n",
            " 13  s56     0 non-null      float64\n",
            " 14  s57     0 non-null      float64\n",
            " 15  s58     85065 non-null  object \n",
            " 16  s59     0 non-null      float64\n",
            " 17  s69     85065 non-null  object \n",
            " 18  s70     85065 non-null  object \n",
            " 19  s71     85065 non-null  object \n",
            " 20  n1      85065 non-null  float64\n",
            " 21  n2      85065 non-null  float64\n",
            " 22  n3      85065 non-null  int64  \n",
            " 23  n4      85065 non-null  float64\n",
            " 24  n5      85065 non-null  float64\n",
            " 25  n6      85065 non-null  float64\n",
            " 26  n7      85065 non-null  float64\n",
            " 27  n8      85065 non-null  float64\n",
            " 28  n9      85065 non-null  float64\n",
            " 29  n10     85065 non-null  float64\n",
            " 30  n11     85065 non-null  float64\n",
            " 31  n12     85065 non-null  int64  \n",
            " 32  n13     85065 non-null  int64  \n",
            " 33  n14     85065 non-null  float64\n",
            " 34  n15     85065 non-null  int64  \n",
            "dtypes: float64(14), int64(6), object(15)\n",
            "memory usage: 22.7+ MB\n"
          ]
        }
      ]
    },
    {
      "cell_type": "code",
      "source": [
        "train_data.describe()"
      ],
      "metadata": {
        "colab": {
          "base_uri": "https://localhost:8080/",
          "height": 364
        },
        "id": "M3f5eWBCcrTu",
        "outputId": "5d6bf983-3de7-42bd-a1f4-6f6f805726be"
      },
      "execution_count": 6,
      "outputs": [
        {
          "output_type": "execute_result",
          "data": {
            "text/plain": [
              "                s13           s48  s56  s57  s59            n1            n2            n3  \\\n",
              "count  28322.000000  28322.000000  0.0  0.0  0.0  28322.000000  28322.000000  28322.000000   \n",
              "mean       0.983123      0.433338  NaN  NaN  NaN     10.201863      1.600111      4.805099   \n",
              "std        0.128814      0.495545  NaN  NaN  NaN      4.414660      0.664985      2.199282   \n",
              "min        0.000000      0.000000  NaN  NaN  NaN      2.200736      0.311727      0.000000   \n",
              "25%        1.000000      0.000000  NaN  NaN  NaN      6.592127      1.013540      3.000000   \n",
              "50%        1.000000      0.000000  NaN  NaN  NaN      9.535961      1.462197      5.000000   \n",
              "75%        1.000000      1.000000  NaN  NaN  NaN     14.432580      2.194510      6.000000   \n",
              "max        1.000000      1.000000  NaN  NaN  NaN     20.882733      3.137331      9.000000   \n",
              "\n",
              "                 n4            n5            n6            n7            n8            n9  \\\n",
              "count  28322.000000  28322.000000  28322.000000  28322.000000  28322.000000  28322.000000   \n",
              "mean       5.080537    -32.641183      0.015014     -9.107429      1.612428      5.232644   \n",
              "std        2.276162      0.241453      0.006550      0.205200      0.173560      2.179705   \n",
              "min        1.700370    -33.167589      0.000584     -9.517986      1.178469      2.508858   \n",
              "25%        2.833161    -32.862207      0.009195     -9.258473      1.489924      3.464229   \n",
              "50%        4.840320    -32.577026      0.016053     -9.174557      1.537263      4.461770   \n",
              "75%        7.300738    -32.396733      0.018771     -8.964786      1.730249      6.524341   \n",
              "max        8.594620    -32.289180      0.029992     -8.586583      2.173593     11.214870   \n",
              "\n",
              "                n10           n11           n12           n13           n14           n15  \\\n",
              "count  28322.000000  28322.000000  28322.000000  28322.000000  28322.000000  28322.000000   \n",
              "mean       6.115109      1.699553      0.009992      0.089506      0.497570      2.997740   \n",
              "std        2.474138      0.115150      0.099462      0.285478      0.289207      2.007611   \n",
              "min        1.173465      1.500006      0.000000      0.000000      0.000101      0.000000   \n",
              "25%        4.414671      1.600056      0.000000      0.000000      0.247801      1.000000   \n",
              "50%        5.317154      1.698556      0.000000      0.000000      0.495255      3.000000   \n",
              "75%        7.027610      1.799238      0.000000      0.000000      0.748786      5.000000   \n",
              "max       12.029135      1.899995      1.000000      1.000000      0.999990      6.000000   \n",
              "\n",
              "              label  \n",
              "count  28322.000000  \n",
              "mean       0.168067  \n",
              "std        0.373933  \n",
              "min        0.000000  \n",
              "25%        0.000000  \n",
              "50%        0.000000  \n",
              "75%        0.000000  \n",
              "max        1.000000  "
            ],
            "text/html": [
              "\n",
              "  <div id=\"df-238b2ab8-ef39-4866-b1dc-9e482a8a776f\">\n",
              "    <div class=\"colab-df-container\">\n",
              "      <div>\n",
              "<style scoped>\n",
              "    .dataframe tbody tr th:only-of-type {\n",
              "        vertical-align: middle;\n",
              "    }\n",
              "\n",
              "    .dataframe tbody tr th {\n",
              "        vertical-align: top;\n",
              "    }\n",
              "\n",
              "    .dataframe thead th {\n",
              "        text-align: right;\n",
              "    }\n",
              "</style>\n",
              "<table border=\"1\" class=\"dataframe\">\n",
              "  <thead>\n",
              "    <tr style=\"text-align: right;\">\n",
              "      <th></th>\n",
              "      <th>s13</th>\n",
              "      <th>s48</th>\n",
              "      <th>s56</th>\n",
              "      <th>s57</th>\n",
              "      <th>s59</th>\n",
              "      <th>n1</th>\n",
              "      <th>n2</th>\n",
              "      <th>n3</th>\n",
              "      <th>n4</th>\n",
              "      <th>n5</th>\n",
              "      <th>n6</th>\n",
              "      <th>n7</th>\n",
              "      <th>n8</th>\n",
              "      <th>n9</th>\n",
              "      <th>n10</th>\n",
              "      <th>n11</th>\n",
              "      <th>n12</th>\n",
              "      <th>n13</th>\n",
              "      <th>n14</th>\n",
              "      <th>n15</th>\n",
              "      <th>label</th>\n",
              "    </tr>\n",
              "  </thead>\n",
              "  <tbody>\n",
              "    <tr>\n",
              "      <th>count</th>\n",
              "      <td>28322.000000</td>\n",
              "      <td>28322.000000</td>\n",
              "      <td>0.0</td>\n",
              "      <td>0.0</td>\n",
              "      <td>0.0</td>\n",
              "      <td>28322.000000</td>\n",
              "      <td>28322.000000</td>\n",
              "      <td>28322.000000</td>\n",
              "      <td>28322.000000</td>\n",
              "      <td>28322.000000</td>\n",
              "      <td>28322.000000</td>\n",
              "      <td>28322.000000</td>\n",
              "      <td>28322.000000</td>\n",
              "      <td>28322.000000</td>\n",
              "      <td>28322.000000</td>\n",
              "      <td>28322.000000</td>\n",
              "      <td>28322.000000</td>\n",
              "      <td>28322.000000</td>\n",
              "      <td>28322.000000</td>\n",
              "      <td>28322.000000</td>\n",
              "      <td>28322.000000</td>\n",
              "    </tr>\n",
              "    <tr>\n",
              "      <th>mean</th>\n",
              "      <td>0.983123</td>\n",
              "      <td>0.433338</td>\n",
              "      <td>NaN</td>\n",
              "      <td>NaN</td>\n",
              "      <td>NaN</td>\n",
              "      <td>10.201863</td>\n",
              "      <td>1.600111</td>\n",
              "      <td>4.805099</td>\n",
              "      <td>5.080537</td>\n",
              "      <td>-32.641183</td>\n",
              "      <td>0.015014</td>\n",
              "      <td>-9.107429</td>\n",
              "      <td>1.612428</td>\n",
              "      <td>5.232644</td>\n",
              "      <td>6.115109</td>\n",
              "      <td>1.699553</td>\n",
              "      <td>0.009992</td>\n",
              "      <td>0.089506</td>\n",
              "      <td>0.497570</td>\n",
              "      <td>2.997740</td>\n",
              "      <td>0.168067</td>\n",
              "    </tr>\n",
              "    <tr>\n",
              "      <th>std</th>\n",
              "      <td>0.128814</td>\n",
              "      <td>0.495545</td>\n",
              "      <td>NaN</td>\n",
              "      <td>NaN</td>\n",
              "      <td>NaN</td>\n",
              "      <td>4.414660</td>\n",
              "      <td>0.664985</td>\n",
              "      <td>2.199282</td>\n",
              "      <td>2.276162</td>\n",
              "      <td>0.241453</td>\n",
              "      <td>0.006550</td>\n",
              "      <td>0.205200</td>\n",
              "      <td>0.173560</td>\n",
              "      <td>2.179705</td>\n",
              "      <td>2.474138</td>\n",
              "      <td>0.115150</td>\n",
              "      <td>0.099462</td>\n",
              "      <td>0.285478</td>\n",
              "      <td>0.289207</td>\n",
              "      <td>2.007611</td>\n",
              "      <td>0.373933</td>\n",
              "    </tr>\n",
              "    <tr>\n",
              "      <th>min</th>\n",
              "      <td>0.000000</td>\n",
              "      <td>0.000000</td>\n",
              "      <td>NaN</td>\n",
              "      <td>NaN</td>\n",
              "      <td>NaN</td>\n",
              "      <td>2.200736</td>\n",
              "      <td>0.311727</td>\n",
              "      <td>0.000000</td>\n",
              "      <td>1.700370</td>\n",
              "      <td>-33.167589</td>\n",
              "      <td>0.000584</td>\n",
              "      <td>-9.517986</td>\n",
              "      <td>1.178469</td>\n",
              "      <td>2.508858</td>\n",
              "      <td>1.173465</td>\n",
              "      <td>1.500006</td>\n",
              "      <td>0.000000</td>\n",
              "      <td>0.000000</td>\n",
              "      <td>0.000101</td>\n",
              "      <td>0.000000</td>\n",
              "      <td>0.000000</td>\n",
              "    </tr>\n",
              "    <tr>\n",
              "      <th>25%</th>\n",
              "      <td>1.000000</td>\n",
              "      <td>0.000000</td>\n",
              "      <td>NaN</td>\n",
              "      <td>NaN</td>\n",
              "      <td>NaN</td>\n",
              "      <td>6.592127</td>\n",
              "      <td>1.013540</td>\n",
              "      <td>3.000000</td>\n",
              "      <td>2.833161</td>\n",
              "      <td>-32.862207</td>\n",
              "      <td>0.009195</td>\n",
              "      <td>-9.258473</td>\n",
              "      <td>1.489924</td>\n",
              "      <td>3.464229</td>\n",
              "      <td>4.414671</td>\n",
              "      <td>1.600056</td>\n",
              "      <td>0.000000</td>\n",
              "      <td>0.000000</td>\n",
              "      <td>0.247801</td>\n",
              "      <td>1.000000</td>\n",
              "      <td>0.000000</td>\n",
              "    </tr>\n",
              "    <tr>\n",
              "      <th>50%</th>\n",
              "      <td>1.000000</td>\n",
              "      <td>0.000000</td>\n",
              "      <td>NaN</td>\n",
              "      <td>NaN</td>\n",
              "      <td>NaN</td>\n",
              "      <td>9.535961</td>\n",
              "      <td>1.462197</td>\n",
              "      <td>5.000000</td>\n",
              "      <td>4.840320</td>\n",
              "      <td>-32.577026</td>\n",
              "      <td>0.016053</td>\n",
              "      <td>-9.174557</td>\n",
              "      <td>1.537263</td>\n",
              "      <td>4.461770</td>\n",
              "      <td>5.317154</td>\n",
              "      <td>1.698556</td>\n",
              "      <td>0.000000</td>\n",
              "      <td>0.000000</td>\n",
              "      <td>0.495255</td>\n",
              "      <td>3.000000</td>\n",
              "      <td>0.000000</td>\n",
              "    </tr>\n",
              "    <tr>\n",
              "      <th>75%</th>\n",
              "      <td>1.000000</td>\n",
              "      <td>1.000000</td>\n",
              "      <td>NaN</td>\n",
              "      <td>NaN</td>\n",
              "      <td>NaN</td>\n",
              "      <td>14.432580</td>\n",
              "      <td>2.194510</td>\n",
              "      <td>6.000000</td>\n",
              "      <td>7.300738</td>\n",
              "      <td>-32.396733</td>\n",
              "      <td>0.018771</td>\n",
              "      <td>-8.964786</td>\n",
              "      <td>1.730249</td>\n",
              "      <td>6.524341</td>\n",
              "      <td>7.027610</td>\n",
              "      <td>1.799238</td>\n",
              "      <td>0.000000</td>\n",
              "      <td>0.000000</td>\n",
              "      <td>0.748786</td>\n",
              "      <td>5.000000</td>\n",
              "      <td>0.000000</td>\n",
              "    </tr>\n",
              "    <tr>\n",
              "      <th>max</th>\n",
              "      <td>1.000000</td>\n",
              "      <td>1.000000</td>\n",
              "      <td>NaN</td>\n",
              "      <td>NaN</td>\n",
              "      <td>NaN</td>\n",
              "      <td>20.882733</td>\n",
              "      <td>3.137331</td>\n",
              "      <td>9.000000</td>\n",
              "      <td>8.594620</td>\n",
              "      <td>-32.289180</td>\n",
              "      <td>0.029992</td>\n",
              "      <td>-8.586583</td>\n",
              "      <td>2.173593</td>\n",
              "      <td>11.214870</td>\n",
              "      <td>12.029135</td>\n",
              "      <td>1.899995</td>\n",
              "      <td>1.000000</td>\n",
              "      <td>1.000000</td>\n",
              "      <td>0.999990</td>\n",
              "      <td>6.000000</td>\n",
              "      <td>1.000000</td>\n",
              "    </tr>\n",
              "  </tbody>\n",
              "</table>\n",
              "</div>\n",
              "      <button class=\"colab-df-convert\" onclick=\"convertToInteractive('df-238b2ab8-ef39-4866-b1dc-9e482a8a776f')\"\n",
              "              title=\"Convert this dataframe to an interactive table.\"\n",
              "              style=\"display:none;\">\n",
              "        \n",
              "  <svg xmlns=\"http://www.w3.org/2000/svg\" height=\"24px\"viewBox=\"0 0 24 24\"\n",
              "       width=\"24px\">\n",
              "    <path d=\"M0 0h24v24H0V0z\" fill=\"none\"/>\n",
              "    <path d=\"M18.56 5.44l.94 2.06.94-2.06 2.06-.94-2.06-.94-.94-2.06-.94 2.06-2.06.94zm-11 1L8.5 8.5l.94-2.06 2.06-.94-2.06-.94L8.5 2.5l-.94 2.06-2.06.94zm10 10l.94 2.06.94-2.06 2.06-.94-2.06-.94-.94-2.06-.94 2.06-2.06.94z\"/><path d=\"M17.41 7.96l-1.37-1.37c-.4-.4-.92-.59-1.43-.59-.52 0-1.04.2-1.43.59L10.3 9.45l-7.72 7.72c-.78.78-.78 2.05 0 2.83L4 21.41c.39.39.9.59 1.41.59.51 0 1.02-.2 1.41-.59l7.78-7.78 2.81-2.81c.8-.78.8-2.07 0-2.86zM5.41 20L4 18.59l7.72-7.72 1.47 1.35L5.41 20z\"/>\n",
              "  </svg>\n",
              "      </button>\n",
              "      \n",
              "  <style>\n",
              "    .colab-df-container {\n",
              "      display:flex;\n",
              "      flex-wrap:wrap;\n",
              "      gap: 12px;\n",
              "    }\n",
              "\n",
              "    .colab-df-convert {\n",
              "      background-color: #E8F0FE;\n",
              "      border: none;\n",
              "      border-radius: 50%;\n",
              "      cursor: pointer;\n",
              "      display: none;\n",
              "      fill: #1967D2;\n",
              "      height: 32px;\n",
              "      padding: 0 0 0 0;\n",
              "      width: 32px;\n",
              "    }\n",
              "\n",
              "    .colab-df-convert:hover {\n",
              "      background-color: #E2EBFA;\n",
              "      box-shadow: 0px 1px 2px rgba(60, 64, 67, 0.3), 0px 1px 3px 1px rgba(60, 64, 67, 0.15);\n",
              "      fill: #174EA6;\n",
              "    }\n",
              "\n",
              "    [theme=dark] .colab-df-convert {\n",
              "      background-color: #3B4455;\n",
              "      fill: #D2E3FC;\n",
              "    }\n",
              "\n",
              "    [theme=dark] .colab-df-convert:hover {\n",
              "      background-color: #434B5C;\n",
              "      box-shadow: 0px 1px 3px 1px rgba(0, 0, 0, 0.15);\n",
              "      filter: drop-shadow(0px 1px 2px rgba(0, 0, 0, 0.3));\n",
              "      fill: #FFFFFF;\n",
              "    }\n",
              "  </style>\n",
              "\n",
              "      <script>\n",
              "        const buttonEl =\n",
              "          document.querySelector('#df-238b2ab8-ef39-4866-b1dc-9e482a8a776f button.colab-df-convert');\n",
              "        buttonEl.style.display =\n",
              "          google.colab.kernel.accessAllowed ? 'block' : 'none';\n",
              "\n",
              "        async function convertToInteractive(key) {\n",
              "          const element = document.querySelector('#df-238b2ab8-ef39-4866-b1dc-9e482a8a776f');\n",
              "          const dataTable =\n",
              "            await google.colab.kernel.invokeFunction('convertToInteractive',\n",
              "                                                     [key], {});\n",
              "          if (!dataTable) return;\n",
              "\n",
              "          const docLinkHtml = 'Like what you see? Visit the ' +\n",
              "            '<a target=\"_blank\" href=https://colab.research.google.com/notebooks/data_table.ipynb>data table notebook</a>'\n",
              "            + ' to learn more about interactive tables.';\n",
              "          element.innerHTML = '';\n",
              "          dataTable['output_type'] = 'display_data';\n",
              "          await google.colab.output.renderOutput(dataTable, element);\n",
              "          const docLink = document.createElement('div');\n",
              "          docLink.innerHTML = docLinkHtml;\n",
              "          element.appendChild(docLink);\n",
              "        }\n",
              "      </script>\n",
              "    </div>\n",
              "  </div>\n",
              "  "
            ]
          },
          "metadata": {},
          "execution_count": 6
        }
      ]
    },
    {
      "cell_type": "code",
      "source": [
        "train_data.hist(figsize=(16,16))\n",
        "plt.show()"
      ],
      "metadata": {
        "colab": {
          "base_uri": "https://localhost:8080/",
          "height": 934
        },
        "id": "stzo_V3VcrtO",
        "outputId": "1a253f2a-f376-4ac4-a0a6-2ba8bf297621"
      },
      "execution_count": 7,
      "outputs": [
        {
          "output_type": "display_data",
          "data": {
            "text/plain": [
              "<Figure size 1152x1152 with 25 Axes>"
            ],
            "image/png": "[encoded data removed]"
          },
          "metadata": {
            "needs_background": "light"
          }
        }
      ]
    },
    {
      "cell_type": "markdown",
      "source": [
        "# Preprocessing and feature selection"
      ],
      "metadata": {
        "id": "jCB4RSxSdyVg"
      }
    },
    {
      "cell_type": "code",
      "source": [
        "# get the number of missing data points per column\n",
        "missing_values_count = train_data.isnull().sum()\n",
        "# look at the # of missing points in the first ten columns\n",
        "missing_values_count"
      ],
      "metadata": {
        "colab": {
          "base_uri": "https://localhost:8080/"
        },
        "id": "WqZ2gZADd2yP",
        "outputId": "d28b3138-0e68-4b87-eaed-dcb2ccfbf7b3"
      },
      "execution_count": 8,
      "outputs": [
        {
          "output_type": "execute_result",
          "data": {
            "text/plain": [
              "id            0\n",
              "gender        0\n",
              "s11           0\n",
              "s12           0\n",
              "s13           0\n",
              "s16           0\n",
              "s17           0\n",
              "s18           0\n",
              "s48           0\n",
              "s52           0\n",
              "s53           0\n",
              "s54       25694\n",
              "s55       25116\n",
              "s56       28322\n",
              "s57       28322\n",
              "s58           0\n",
              "s59       28322\n",
              "s69           0\n",
              "s70           0\n",
              "s71           0\n",
              "n1            0\n",
              "n2            0\n",
              "n3            0\n",
              "n4            0\n",
              "n5            0\n",
              "n6            0\n",
              "n7            0\n",
              "n8            0\n",
              "n9            0\n",
              "n10           0\n",
              "n11           0\n",
              "n12           0\n",
              "n13           0\n",
              "n14           0\n",
              "n15           0\n",
              "label         0\n",
              "dtype: int64"
            ]
          },
          "metadata": {},
          "execution_count": 8
        }
      ]
    },
    {
      "cell_type": "code",
      "source": [
        "# how many total missing values do we have?\n",
        "total_cells = np.product(train_data.shape)\n",
        "total_missing = missing_values_count.sum()\n",
        "\n",
        "# percent of data that is missing\n",
        "(total_missing/total_cells) * 100"
      ],
      "metadata": {
        "colab": {
          "base_uri": "https://localhost:8080/"
        },
        "id": "VAI7DCsnd3hM",
        "outputId": "673c08d6-247b-44ac-9b6f-1fd8abd30eb9"
      },
      "execution_count": 9,
      "outputs": [
        {
          "output_type": "execute_result",
          "data": {
            "text/plain": [
              "13.316699228711093"
            ]
          },
          "metadata": {},
          "execution_count": 9
        }
      ]
    },
    {
      "cell_type": "code",
      "source": [
        "# missing value visualization by heatmap\n",
        "plt.figure(figsize=(20,8))\n",
        "sns.heatmap(train_data.isnull(), yticklabels=False, cbar=False, cmap='crest')"
      ],
      "metadata": {
        "colab": {
          "base_uri": "https://localhost:8080/",
          "height": 494
        },
        "id": "BKKgD-B5eJZD",
        "outputId": "3542b139-35ce-4591-87b7-55bcaa3de018"
      },
      "execution_count": 10,
      "outputs": [
        {
          "output_type": "execute_result",
          "data": {
            "text/plain": [
              "<matplotlib.axes._subplots.AxesSubplot at 0x7fc5192c25d0>"
            ]
          },
          "metadata": {},
          "execution_count": 10
        },
        {
          "output_type": "display_data",
          "data": {
            "text/plain": [
              "<Figure size 1440x576 with 1 Axes>"
            ],
            "image/png": "[encoded data removed]"
          },
          "metadata": {
            "needs_background": "light"
          }
        }
      ]
    },
    {
      "cell_type": "code",
      "source": [
        "# assigning x and y coordinates\n",
        "Preference = ['missing data', 'total data']\n",
        "  \n",
        "values = [total_missing,total_cells]\n",
        "  \n",
        "# depicting the visualization\n",
        "fig = plt.figure()\n",
        "ax = fig.add_axes([0,0,1,1])\n",
        "ax.axis('equal')\n",
        "ax.pie(values, labels = Preference, \n",
        "       autopct='%1.2f%%')\n",
        "  \n",
        "# displaying the title\n",
        "plt.title(label=\"Missing value percentage\",\n",
        "          loc=\"left\",\n",
        "          fontstyle='italic')"
      ],
      "metadata": {
        "colab": {
          "base_uri": "https://localhost:8080/",
          "height": 352
        },
        "id": "Ds2G6TtLeXcf",
        "outputId": "b63ba70e-9b2c-4f19-e65e-43775a1b9b9e"
      },
      "execution_count": 11,
      "outputs": [
        {
          "output_type": "execute_result",
          "data": {
            "text/plain": [
              "Text(0.0, 1.0, 'Missing value percentage')"
            ]
          },
          "metadata": {},
          "execution_count": 11
        },
        {
          "output_type": "display_data",
          "data": {
            "text/plain": [
              "<Figure size 432x288 with 1 Axes>"
            ],
            "image/png": "[encoded data removed]"
          },
          "metadata": {}
        }
      ]
    },
    {
      "cell_type": "code",
      "source": [
        "#categorical col\n",
        "cat_cols = train_data.select_dtypes(include= \"object\").columns\n",
        "cat_cols"
      ],
      "metadata": {
        "colab": {
          "base_uri": "https://localhost:8080/"
        },
        "id": "uRFkTbbTecK_",
        "outputId": "6cf18c66-b914-4d95-937e-7cb01a3d4bc3"
      },
      "execution_count": 12,
      "outputs": [
        {
          "output_type": "execute_result",
          "data": {
            "text/plain": [
              "Index(['id', 'gender', 's11', 's12', 's16', 's17', 's18', 's52', 's53', 's54', 's55', 's58', 's69',\n",
              "       's70', 's71'],\n",
              "      dtype='object')"
            ]
          },
          "metadata": {},
          "execution_count": 12
        }
      ]
    },
    {
      "cell_type": "code",
      "source": [
        "# Convert object to category\n",
        "cat_cols=cat_cols[1:]\n",
        "train_data[cat_cols] = train_data[cat_cols].apply(lambda x:x.astype(\"category\"))\n",
        "test_data[cat_cols] = test_data[cat_cols].apply(lambda x:x.astype(\"category\"))"
      ],
      "metadata": {
        "id": "8bi_OzqGefzI"
      },
      "execution_count": 13,
      "outputs": []
    },
    {
      "cell_type": "code",
      "source": [
        "# encoding\n",
        "train_data[cat_cols]=train_data[cat_cols].apply(lambda x: x.cat.codes)\n",
        "test_data[cat_cols]=test_data[cat_cols].apply(lambda x: x.cat.codes)"
      ],
      "metadata": {
        "id": "LFwwOK2meh57"
      },
      "execution_count": 14,
      "outputs": []
    },
    {
      "cell_type": "code",
      "source": [
        "train_data.head()"
      ],
      "metadata": {
        "colab": {
          "base_uri": "https://localhost:8080/",
          "height": 270
        },
        "id": "Y8Lb9za0ejLX",
        "outputId": "d9699ef5-a417-455f-9003-2fdf24055b51"
      },
      "execution_count": 15,
      "outputs": [
        {
          "output_type": "execute_result",
          "data": {
            "text/plain": [
              "                                                  id  gender  s11  s12  s13  s16  s17  s18  s48  \\\n",
              "0  b'gAAAAABinOicS09vrmgh0_JyEHihI13ptO0rCyHP7l76...       1    1    0    1    3    3    1    0   \n",
              "1  b'gAAAAABinOiWGC1WhR6WYP0DA5ssGv9rIekrWUwCdJ8F...       1    1    1    1    3    3    1    1   \n",
              "2  b'gAAAAABinOibTcOBFIVeA4nVF3FuFz_QX3ZlPPFc21gS...       1    1    1    1    3    3    1    0   \n",
              "3  b'gAAAAABinOig-g3-Q1ggjlMhfUSdn21Aj5yVVeVvXbis...       0    1    1    1    3    3    1    0   \n",
              "4  b'gAAAAABinOiXdoaNUzihOSbyY1tjWtd5EgMaXkkvH6SV...       1    0    1    1    1    3    3    1   \n",
              "\n",
              "   s52  s53  s54  s55  s56  s57  s58  s59  s69  s70  s71         n1        n2  n3        n4  \\\n",
              "0    1    1   -1    7  NaN  NaN    1  NaN    2    3    1  16.144666  1.989441   2  2.318385   \n",
              "1    1    1   -1   -1  NaN  NaN    1  NaN    2    3    1   7.144558  0.844866   3  6.197768   \n",
              "2    1    1   -1   -1  NaN  NaN    1  NaN    2    3    1   6.923236  1.042018   6  7.824401   \n",
              "3    1    1   -1   -1  NaN  NaN    1  NaN    2    3    1   5.749840  0.781439   2  8.256767   \n",
              "4    2    1   -1   -1  NaN  NaN    1  NaN    3    3    3  14.771959  1.248188   3  2.300011   \n",
              "\n",
              "          n5        n6        n7        n8        n9       n10       n11  n12  n13       n14  n15  \\\n",
              "0 -32.839277  0.017176 -9.126056  1.732291  3.698504  4.804517  1.544484    0    0  0.631220    5   \n",
              "1 -32.576597  0.013857 -9.098287  1.505885  6.791357  6.110416  1.712354    0    0  0.392746    3   \n",
              "2 -32.510544  0.013943 -9.234894  1.503828  4.109685  3.953226  1.804260    0    0  0.222537    2   \n",
              "3 -32.398679  0.010387 -9.378025  1.485863  7.265876  4.559419  1.537645    0    0  0.154409    4   \n",
              "4 -32.396746  0.016289 -9.261962  1.619210  3.737647  4.052003  1.637831    0    1  0.737560    1   \n",
              "\n",
              "   label  \n",
              "0      0  \n",
              "1      1  \n",
              "2      0  \n",
              "3      0  \n",
              "4      0  "
            ],
            "text/html": [
              "\n",
              "  <div id=\"df-492d185b-8f8e-4f7a-aee1-9850123955b6\">\n",
              "    <div class=\"colab-df-container\">\n",
              "      <div>\n",
              "<style scoped>\n",
              "    .dataframe tbody tr th:only-of-type {\n",
              "        vertical-align: middle;\n",
              "    }\n",
              "\n",
              "    .dataframe tbody tr th {\n",
              "        vertical-align: top;\n",
              "    }\n",
              "\n",
              "    .dataframe thead th {\n",
              "        text-align: right;\n",
              "    }\n",
              "</style>\n",
              "<table border=\"1\" class=\"dataframe\">\n",
              "  <thead>\n",
              "    <tr style=\"text-align: right;\">\n",
              "      <th></th>\n",
              "      <th>id</th>\n",
              "      <th>gender</th>\n",
              "      <th>s11</th>\n",
              "      <th>s12</th>\n",
              "      <th>s13</th>\n",
              "      <th>s16</th>\n",
              "      <th>s17</th>\n",
              "      <th>s18</th>\n",
              "      <th>s48</th>\n",
              "      <th>s52</th>\n",
              "      <th>s53</th>\n",
              "      <th>s54</th>\n",
              "      <th>s55</th>\n",
              "      <th>s56</th>\n",
              "      <th>s57</th>\n",
              "      <th>s58</th>\n",
              "      <th>s59</th>\n",
              "      <th>s69</th>\n",
              "      <th>s70</th>\n",
              "      <th>s71</th>\n",
              "      <th>n1</th>\n",
              "      <th>n2</th>\n",
              "      <th>n3</th>\n",
              "      <th>n4</th>\n",
              "      <th>n5</th>\n",
              "      <th>n6</th>\n",
              "      <th>n7</th>\n",
              "      <th>n8</th>\n",
              "      <th>n9</th>\n",
              "      <th>n10</th>\n",
              "      <th>n11</th>\n",
              "      <th>n12</th>\n",
              "      <th>n13</th>\n",
              "      <th>n14</th>\n",
              "      <th>n15</th>\n",
              "      <th>label</th>\n",
              "    </tr>\n",
              "  </thead>\n",
              "  <tbody>\n",
              "    <tr>\n",
              "      <th>0</th>\n",
              "      <td>b'gAAAAABinOicS09vrmgh0_JyEHihI13ptO0rCyHP7l76...</td>\n",
              "      <td>1</td>\n",
              "      <td>1</td>\n",
              "      <td>0</td>\n",
              "      <td>1</td>\n",
              "      <td>3</td>\n",
              "      <td>3</td>\n",
              "      <td>1</td>\n",
              "      <td>0</td>\n",
              "      <td>1</td>\n",
              "      <td>1</td>\n",
              "      <td>-1</td>\n",
              "      <td>7</td>\n",
              "      <td>NaN</td>\n",
              "      <td>NaN</td>\n",
              "      <td>1</td>\n",
              "      <td>NaN</td>\n",
              "      <td>2</td>\n",
              "      <td>3</td>\n",
              "      <td>1</td>\n",
              "      <td>16.144666</td>\n",
              "      <td>1.989441</td>\n",
              "      <td>2</td>\n",
              "      <td>2.318385</td>\n",
              "      <td>-32.839277</td>\n",
              "      <td>0.017176</td>\n",
              "      <td>-9.126056</td>\n",
              "      <td>1.732291</td>\n",
              "      <td>3.698504</td>\n",
              "      <td>4.804517</td>\n",
              "      <td>1.544484</td>\n",
              "      <td>0</td>\n",
              "      <td>0</td>\n",
              "      <td>0.631220</td>\n",
              "      <td>5</td>\n",
              "      <td>0</td>\n",
              "    </tr>\n",
              "    <tr>\n",
              "      <th>1</th>\n",
              "      <td>b'gAAAAABinOiWGC1WhR6WYP0DA5ssGv9rIekrWUwCdJ8F...</td>\n",
              "      <td>1</td>\n",
              "      <td>1</td>\n",
              "      <td>1</td>\n",
              "      <td>1</td>\n",
              "      <td>3</td>\n",
              "      <td>3</td>\n",
              "      <td>1</td>\n",
              "      <td>1</td>\n",
              "      <td>1</td>\n",
              "      <td>1</td>\n",
              "      <td>-1</td>\n",
              "      <td>-1</td>\n",
              "      <td>NaN</td>\n",
              "      <td>NaN</td>\n",
              "      <td>1</td>\n",
              "      <td>NaN</td>\n",
              "      <td>2</td>\n",
              "      <td>3</td>\n",
              "      <td>1</td>\n",
              "      <td>7.144558</td>\n",
              "      <td>0.844866</td>\n",
              "      <td>3</td>\n",
              "      <td>6.197768</td>\n",
              "      <td>-32.576597</td>\n",
              "      <td>0.013857</td>\n",
              "      <td>-9.098287</td>\n",
              "      <td>1.505885</td>\n",
              "      <td>6.791357</td>\n",
              "      <td>6.110416</td>\n",
              "      <td>1.712354</td>\n",
              "      <td>0</td>\n",
              "      <td>0</td>\n",
              "      <td>0.392746</td>\n",
              "      <td>3</td>\n",
              "      <td>1</td>\n",
              "    </tr>\n",
              "    <tr>\n",
              "      <th>2</th>\n",
              "      <td>b'gAAAAABinOibTcOBFIVeA4nVF3FuFz_QX3ZlPPFc21gS...</td>\n",
              "      <td>1</td>\n",
              "      <td>1</td>\n",
              "      <td>1</td>\n",
              "      <td>1</td>\n",
              "      <td>3</td>\n",
              "      <td>3</td>\n",
              "      <td>1</td>\n",
              "      <td>0</td>\n",
              "      <td>1</td>\n",
              "      <td>1</td>\n",
              "      <td>-1</td>\n",
              "      <td>-1</td>\n",
              "      <td>NaN</td>\n",
              "      <td>NaN</td>\n",
              "      <td>1</td>\n",
              "      <td>NaN</td>\n",
              "      <td>2</td>\n",
              "      <td>3</td>\n",
              "      <td>1</td>\n",
              "      <td>6.923236</td>\n",
              "      <td>1.042018</td>\n",
              "      <td>6</td>\n",
              "      <td>7.824401</td>\n",
              "      <td>-32.510544</td>\n",
              "      <td>0.013943</td>\n",
              "      <td>-9.234894</td>\n",
              "      <td>1.503828</td>\n",
              "      <td>4.109685</td>\n",
              "      <td>3.953226</td>\n",
              "      <td>1.804260</td>\n",
              "      <td>0</td>\n",
              "      <td>0</td>\n",
              "      <td>0.222537</td>\n",
              "      <td>2</td>\n",
              "      <td>0</td>\n",
              "    </tr>\n",
              "    <tr>\n",
              "      <th>3</th>\n",
              "      <td>b'gAAAAABinOig-g3-Q1ggjlMhfUSdn21Aj5yVVeVvXbis...</td>\n",
              "      <td>0</td>\n",
              "      <td>1</td>\n",
              "      <td>1</td>\n",
              "      <td>1</td>\n",
              "      <td>3</td>\n",
              "      <td>3</td>\n",
              "      <td>1</td>\n",
              "      <td>0</td>\n",
              "      <td>1</td>\n",
              "      <td>1</td>\n",
              "      <td>-1</td>\n",
              "      <td>-1</td>\n",
              "      <td>NaN</td>\n",
              "      <td>NaN</td>\n",
              "      <td>1</td>\n",
              "      <td>NaN</td>\n",
              "      <td>2</td>\n",
              "      <td>3</td>\n",
              "      <td>1</td>\n",
              "      <td>5.749840</td>\n",
              "      <td>0.781439</td>\n",
              "      <td>2</td>\n",
              "      <td>8.256767</td>\n",
              "      <td>-32.398679</td>\n",
              "      <td>0.010387</td>\n",
              "      <td>-9.378025</td>\n",
              "      <td>1.485863</td>\n",
              "      <td>7.265876</td>\n",
              "      <td>4.559419</td>\n",
              "      <td>1.537645</td>\n",
              "      <td>0</td>\n",
              "      <td>0</td>\n",
              "      <td>0.154409</td>\n",
              "      <td>4</td>\n",
              "      <td>0</td>\n",
              "    </tr>\n",
              "    <tr>\n",
              "      <th>4</th>\n",
              "      <td>b'gAAAAABinOiXdoaNUzihOSbyY1tjWtd5EgMaXkkvH6SV...</td>\n",
              "      <td>1</td>\n",
              "      <td>0</td>\n",
              "      <td>1</td>\n",
              "      <td>1</td>\n",
              "      <td>1</td>\n",
              "      <td>3</td>\n",
              "      <td>3</td>\n",
              "      <td>1</td>\n",
              "      <td>2</td>\n",
              "      <td>1</td>\n",
              "      <td>-1</td>\n",
              "      <td>-1</td>\n",
              "      <td>NaN</td>\n",
              "      <td>NaN</td>\n",
              "      <td>1</td>\n",
              "      <td>NaN</td>\n",
              "      <td>3</td>\n",
              "      <td>3</td>\n",
              "      <td>3</td>\n",
              "      <td>14.771959</td>\n",
              "      <td>1.248188</td>\n",
              "      <td>3</td>\n",
              "      <td>2.300011</td>\n",
              "      <td>-32.396746</td>\n",
              "      <td>0.016289</td>\n",
              "      <td>-9.261962</td>\n",
              "      <td>1.619210</td>\n",
              "      <td>3.737647</td>\n",
              "      <td>4.052003</td>\n",
              "      <td>1.637831</td>\n",
              "      <td>0</td>\n",
              "      <td>1</td>\n",
              "      <td>0.737560</td>\n",
              "      <td>1</td>\n",
              "      <td>0</td>\n",
              "    </tr>\n",
              "  </tbody>\n",
              "</table>\n",
              "</div>\n",
              "      <button class=\"colab-df-convert\" onclick=\"convertToInteractive('df-492d185b-8f8e-4f7a-aee1-9850123955b6')\"\n",
              "              title=\"Convert this dataframe to an interactive table.\"\n",
              "              style=\"display:none;\">\n",
              "        \n",
              "  <svg xmlns=\"http://www.w3.org/2000/svg\" height=\"24px\"viewBox=\"0 0 24 24\"\n",
              "       width=\"24px\">\n",
              "    <path d=\"M0 0h24v24H0V0z\" fill=\"none\"/>\n",
              "    <path d=\"M18.56 5.44l.94 2.06.94-2.06 2.06-.94-2.06-.94-.94-2.06-.94 2.06-2.06.94zm-11 1L8.5 8.5l.94-2.06 2.06-.94-2.06-.94L8.5 2.5l-.94 2.06-2.06.94zm10 10l.94 2.06.94-2.06 2.06-.94-2.06-.94-.94-2.06-.94 2.06-2.06.94z\"/><path d=\"M17.41 7.96l-1.37-1.37c-.4-.4-.92-.59-1.43-.59-.52 0-1.04.2-1.43.59L10.3 9.45l-7.72 7.72c-.78.78-.78 2.05 0 2.83L4 21.41c.39.39.9.59 1.41.59.51 0 1.02-.2 1.41-.59l7.78-7.78 2.81-2.81c.8-.78.8-2.07 0-2.86zM5.41 20L4 18.59l7.72-7.72 1.47 1.35L5.41 20z\"/>\n",
              "  </svg>\n",
              "      </button>\n",
              "      \n",
              "  <style>\n",
              "    .colab-df-container {\n",
              "      display:flex;\n",
              "      flex-wrap:wrap;\n",
              "      gap: 12px;\n",
              "    }\n",
              "\n",
              "    .colab-df-convert {\n",
              "      background-color: #E8F0FE;\n",
              "      border: none;\n",
              "      border-radius: 50%;\n",
              "      cursor: pointer;\n",
              "      display: none;\n",
              "      fill: #1967D2;\n",
              "      height: 32px;\n",
              "      padding: 0 0 0 0;\n",
              "      width: 32px;\n",
              "    }\n",
              "\n",
              "    .colab-df-convert:hover {\n",
              "      background-color: #E2EBFA;\n",
              "      box-shadow: 0px 1px 2px rgba(60, 64, 67, 0.3), 0px 1px 3px 1px rgba(60, 64, 67, 0.15);\n",
              "      fill: #174EA6;\n",
              "    }\n",
              "\n",
              "    [theme=dark] .colab-df-convert {\n",
              "      background-color: #3B4455;\n",
              "      fill: #D2E3FC;\n",
              "    }\n",
              "\n",
              "    [theme=dark] .colab-df-convert:hover {\n",
              "      background-color: #434B5C;\n",
              "      box-shadow: 0px 1px 3px 1px rgba(0, 0, 0, 0.15);\n",
              "      filter: drop-shadow(0px 1px 2px rgba(0, 0, 0, 0.3));\n",
              "      fill: #FFFFFF;\n",
              "    }\n",
              "  </style>\n",
              "\n",
              "      <script>\n",
              "        const buttonEl =\n",
              "          document.querySelector('#df-492d185b-8f8e-4f7a-aee1-9850123955b6 button.colab-df-convert');\n",
              "        buttonEl.style.display =\n",
              "          google.colab.kernel.accessAllowed ? 'block' : 'none';\n",
              "\n",
              "        async function convertToInteractive(key) {\n",
              "          const element = document.querySelector('#df-492d185b-8f8e-4f7a-aee1-9850123955b6');\n",
              "          const dataTable =\n",
              "            await google.colab.kernel.invokeFunction('convertToInteractive',\n",
              "                                                     [key], {});\n",
              "          if (!dataTable) return;\n",
              "\n",
              "          const docLinkHtml = 'Like what you see? Visit the ' +\n",
              "            '<a target=\"_blank\" href=https://colab.research.google.com/notebooks/data_table.ipynb>data table notebook</a>'\n",
              "            + ' to learn more about interactive tables.';\n",
              "          element.innerHTML = '';\n",
              "          dataTable['output_type'] = 'display_data';\n",
              "          await google.colab.output.renderOutput(dataTable, element);\n",
              "          const docLink = document.createElement('div');\n",
              "          docLink.innerHTML = docLinkHtml;\n",
              "          element.appendChild(docLink);\n",
              "        }\n",
              "      </script>\n",
              "    </div>\n",
              "  </div>\n",
              "  "
            ]
          },
          "metadata": {},
          "execution_count": 15
        }
      ]
    },
    {
      "cell_type": "code",
      "source": [
        "y=train_data.label\n",
        "test_id=test_data.id\n",
        "#drop irrevalent and less important columns on both dataset\n",
        "train_data.drop(['id','s54','s55','s56','s57','s59','label'],axis=1,inplace=True)\n",
        "test_data.drop(['id','s54','s55','s56','s57','s59'],axis=1,inplace=True)"
      ],
      "metadata": {
        "id": "50ZJrkBaelJ8"
      },
      "execution_count": 16,
      "outputs": []
    },
    {
      "cell_type": "code",
      "source": [
        "# cor-relations plot \n",
        "corr = train_data.corr()\n",
        "mask1 = np.triu(np.ones_like(corr, dtype=bool))\n",
        "\n",
        "plt.figure(figsize = (16,16))\n",
        "sns.heatmap(train_data.corr(), annot=True, linewidths=.5, fmt= '.1f',cmap=plt.cm.CMRmap_r, mask=mask1)"
      ],
      "metadata": {
        "colab": {
          "base_uri": "https://localhost:8080/",
          "height": 964
        },
        "id": "UTyNqFrge3DO",
        "outputId": "eae1e98b-7a4b-4a9a-c6ad-442d7118c5d5"
      },
      "execution_count": 17,
      "outputs": [
        {
          "output_type": "execute_result",
          "data": {
            "text/plain": [
              "<matplotlib.axes._subplots.AxesSubplot at 0x7fc519b298d0>"
            ]
          },
          "metadata": {},
          "execution_count": 17
        },
        {
          "output_type": "display_data",
          "data": {
            "text/plain": [
              "<Figure size 1152x1152 with 2 Axes>"
            ],
            "image/png": "[encoded data removed]"
          },
          "metadata": {
            "needs_background": "light"
          }
        }
      ]
    },
    {
      "cell_type": "code",
      "source": [
        "# with the following function we can select highly correlated features\n",
        "# it will remove the first feature that is correlated with anything other feature\n",
        "\n",
        "def correlation(dataset, threshold):\n",
        "    col_corr = set()  # Set of all the names of correlated columns\n",
        "    corr_matrix = dataset.corr()\n",
        "    for i in range(len(corr_matrix.columns)):\n",
        "        for j in range(i):\n",
        "            if abs(corr_matrix.iloc[i, j]) > threshold: # we are interested in absolute coeff value\n",
        "                colname = corr_matrix.columns[i]  # getting the name of column\n",
        "                col_corr.add(colname)\n",
        "    return col_corr"
      ],
      "metadata": {
        "id": "5HiflndAgTea"
      },
      "execution_count": 18,
      "outputs": []
    },
    {
      "cell_type": "code",
      "source": [
        "corr_features = correlation(train_data, 0.7)\n",
        "len(set(corr_features))"
      ],
      "metadata": {
        "colab": {
          "base_uri": "https://localhost:8080/"
        },
        "id": "ZTYbuEybhCLY",
        "outputId": "5ec0725e-e75d-4983-d094-a3ca6da63675"
      },
      "execution_count": 19,
      "outputs": [
        {
          "output_type": "execute_result",
          "data": {
            "text/plain": [
              "4"
            ]
          },
          "metadata": {},
          "execution_count": 19
        }
      ]
    },
    {
      "cell_type": "code",
      "source": [
        "train_data=train_data.drop(corr_features,axis=1)\n",
        "test_data=test_data.drop(corr_features,axis=1)"
      ],
      "metadata": {
        "id": "Vf7j1JNfhHIx"
      },
      "execution_count": 20,
      "outputs": []
    },
    {
      "cell_type": "code",
      "source": [
        "# P-value\n",
        "def chi2_calc(df,target):\n",
        "    scores=[]\n",
        "    for col in df.columns:\n",
        "        ct=pd.crosstab(df[col],target)\n",
        "        stat,p,dof,expected=chi2_contingency(ct)\n",
        "        scores.append(p)\n",
        "    return pd.DataFrame(scores, index=df.columns, columns=['P value']).sort_values(by='P value')"
      ],
      "metadata": {
        "id": "2mx80UklhcTT"
      },
      "execution_count": 21,
      "outputs": []
    },
    {
      "cell_type": "code",
      "source": [
        "chi2_calc(train_data,y)"
      ],
      "metadata": {
        "colab": {
          "base_uri": "https://localhost:8080/",
          "height": 833
        },
        "id": "bi2yOE-HhdFO",
        "outputId": "483938af-9068-42bf-a9b0-13fb68ef1db7"
      },
      "execution_count": 22,
      "outputs": [
        {
          "output_type": "execute_result",
          "data": {
            "text/plain": [
              "              P value\n",
              "s11      0.000000e+00\n",
              "s16      0.000000e+00\n",
              "s17      0.000000e+00\n",
              "s18      0.000000e+00\n",
              "s48      0.000000e+00\n",
              "s52      0.000000e+00\n",
              "s69      0.000000e+00\n",
              "gender  4.848059e-309\n",
              "s13     4.099683e-271\n",
              "n3      1.299466e-125\n",
              "s12      3.154971e-24\n",
              "n15      4.109509e-02\n",
              "n13      1.735135e-01\n",
              "s58      3.780364e-01\n",
              "n5       4.915167e-01\n",
              "n7       4.938539e-01\n",
              "n4       4.955301e-01\n",
              "n8       4.955301e-01\n",
              "n9       4.955301e-01\n",
              "n11      4.955301e-01\n",
              "n14      4.972063e-01\n",
              "n1       5.015244e-01\n",
              "n6       5.066096e-01\n",
              "n12      8.651343e-01\n",
              "s53      8.870593e-01"
            ],
            "text/html": [
              "\n",
              "  <div id=\"df-ac3fc16f-3509-4c7a-afca-9d38c666faeb\">\n",
              "    <div class=\"colab-df-container\">\n",
              "      <div>\n",
              "<style scoped>\n",
              "    .dataframe tbody tr th:only-of-type {\n",
              "        vertical-align: middle;\n",
              "    }\n",
              "\n",
              "    .dataframe tbody tr th {\n",
              "        vertical-align: top;\n",
              "    }\n",
              "\n",
              "    .dataframe thead th {\n",
              "        text-align: right;\n",
              "    }\n",
              "</style>\n",
              "<table border=\"1\" class=\"dataframe\">\n",
              "  <thead>\n",
              "    <tr style=\"text-align: right;\">\n",
              "      <th></th>\n",
              "      <th>P value</th>\n",
              "    </tr>\n",
              "  </thead>\n",
              "  <tbody>\n",
              "    <tr>\n",
              "      <th>s11</th>\n",
              "      <td>0.000000e+00</td>\n",
              "    </tr>\n",
              "    <tr>\n",
              "      <th>s16</th>\n",
              "      <td>0.000000e+00</td>\n",
              "    </tr>\n",
              "    <tr>\n",
              "      <th>s17</th>\n",
              "      <td>0.000000e+00</td>\n",
              "    </tr>\n",
              "    <tr>\n",
              "      <th>s18</th>\n",
              "      <td>0.000000e+00</td>\n",
              "    </tr>\n",
              "    <tr>\n",
              "      <th>s48</th>\n",
              "      <td>0.000000e+00</td>\n",
              "    </tr>\n",
              "    <tr>\n",
              "      <th>s52</th>\n",
              "      <td>0.000000e+00</td>\n",
              "    </tr>\n",
              "    <tr>\n",
              "      <th>s69</th>\n",
              "      <td>0.000000e+00</td>\n",
              "    </tr>\n",
              "    <tr>\n",
              "      <th>gender</th>\n",
              "      <td>4.848059e-309</td>\n",
              "    </tr>\n",
              "    <tr>\n",
              "      <th>s13</th>\n",
              "      <td>4.099683e-271</td>\n",
              "    </tr>\n",
              "    <tr>\n",
              "      <th>n3</th>\n",
              "      <td>1.299466e-125</td>\n",
              "    </tr>\n",
              "    <tr>\n",
              "      <th>s12</th>\n",
              "      <td>3.154971e-24</td>\n",
              "    </tr>\n",
              "    <tr>\n",
              "      <th>n15</th>\n",
              "      <td>4.109509e-02</td>\n",
              "    </tr>\n",
              "    <tr>\n",
              "      <th>n13</th>\n",
              "      <td>1.735135e-01</td>\n",
              "    </tr>\n",
              "    <tr>\n",
              "      <th>s58</th>\n",
              "      <td>3.780364e-01</td>\n",
              "    </tr>\n",
              "    <tr>\n",
              "      <th>n5</th>\n",
              "      <td>4.915167e-01</td>\n",
              "    </tr>\n",
              "    <tr>\n",
              "      <th>n7</th>\n",
              "      <td>4.938539e-01</td>\n",
              "    </tr>\n",
              "    <tr>\n",
              "      <th>n4</th>\n",
              "      <td>4.955301e-01</td>\n",
              "    </tr>\n",
              "    <tr>\n",
              "      <th>n8</th>\n",
              "      <td>4.955301e-01</td>\n",
              "    </tr>\n",
              "    <tr>\n",
              "      <th>n9</th>\n",
              "      <td>4.955301e-01</td>\n",
              "    </tr>\n",
              "    <tr>\n",
              "      <th>n11</th>\n",
              "      <td>4.955301e-01</td>\n",
              "    </tr>\n",
              "    <tr>\n",
              "      <th>n14</th>\n",
              "      <td>4.972063e-01</td>\n",
              "    </tr>\n",
              "    <tr>\n",
              "      <th>n1</th>\n",
              "      <td>5.015244e-01</td>\n",
              "    </tr>\n",
              "    <tr>\n",
              "      <th>n6</th>\n",
              "      <td>5.066096e-01</td>\n",
              "    </tr>\n",
              "    <tr>\n",
              "      <th>n12</th>\n",
              "      <td>8.651343e-01</td>\n",
              "    </tr>\n",
              "    <tr>\n",
              "      <th>s53</th>\n",
              "      <td>8.870593e-01</td>\n",
              "    </tr>\n",
              "  </tbody>\n",
              "</table>\n",
              "</div>\n",
              "      <button class=\"colab-df-convert\" onclick=\"convertToInteractive('df-ac3fc16f-3509-4c7a-afca-9d38c666faeb')\"\n",
              "              title=\"Convert this dataframe to an interactive table.\"\n",
              "              style=\"display:none;\">\n",
              "        \n",
              "  <svg xmlns=\"http://www.w3.org/2000/svg\" height=\"24px\"viewBox=\"0 0 24 24\"\n",
              "       width=\"24px\">\n",
              "    <path d=\"M0 0h24v24H0V0z\" fill=\"none\"/>\n",
              "    <path d=\"M18.56 5.44l.94 2.06.94-2.06 2.06-.94-2.06-.94-.94-2.06-.94 2.06-2.06.94zm-11 1L8.5 8.5l.94-2.06 2.06-.94-2.06-.94L8.5 2.5l-.94 2.06-2.06.94zm10 10l.94 2.06.94-2.06 2.06-.94-2.06-.94-.94-2.06-.94 2.06-2.06.94z\"/><path d=\"M17.41 7.96l-1.37-1.37c-.4-.4-.92-.59-1.43-.59-.52 0-1.04.2-1.43.59L10.3 9.45l-7.72 7.72c-.78.78-.78 2.05 0 2.83L4 21.41c.39.39.9.59 1.41.59.51 0 1.02-.2 1.41-.59l7.78-7.78 2.81-2.81c.8-.78.8-2.07 0-2.86zM5.41 20L4 18.59l7.72-7.72 1.47 1.35L5.41 20z\"/>\n",
              "  </svg>\n",
              "      </button>\n",
              "      \n",
              "  <style>\n",
              "    .colab-df-container {\n",
              "      display:flex;\n",
              "      flex-wrap:wrap;\n",
              "      gap: 12px;\n",
              "    }\n",
              "\n",
              "    .colab-df-convert {\n",
              "      background-color: #E8F0FE;\n",
              "      border: none;\n",
              "      border-radius: 50%;\n",
              "      cursor: pointer;\n",
              "      display: none;\n",
              "      fill: #1967D2;\n",
              "      height: 32px;\n",
              "      padding: 0 0 0 0;\n",
              "      width: 32px;\n",
              "    }\n",
              "\n",
              "    .colab-df-convert:hover {\n",
              "      background-color: #E2EBFA;\n",
              "      box-shadow: 0px 1px 2px rgba(60, 64, 67, 0.3), 0px 1px 3px 1px rgba(60, 64, 67, 0.15);\n",
              "      fill: #174EA6;\n",
              "    }\n",
              "\n",
              "    [theme=dark] .colab-df-convert {\n",
              "      background-color: #3B4455;\n",
              "      fill: #D2E3FC;\n",
              "    }\n",
              "\n",
              "    [theme=dark] .colab-df-convert:hover {\n",
              "      background-color: #434B5C;\n",
              "      box-shadow: 0px 1px 3px 1px rgba(0, 0, 0, 0.15);\n",
              "      filter: drop-shadow(0px 1px 2px rgba(0, 0, 0, 0.3));\n",
              "      fill: #FFFFFF;\n",
              "    }\n",
              "  </style>\n",
              "\n",
              "      <script>\n",
              "        const buttonEl =\n",
              "          document.querySelector('#df-ac3fc16f-3509-4c7a-afca-9d38c666faeb button.colab-df-convert');\n",
              "        buttonEl.style.display =\n",
              "          google.colab.kernel.accessAllowed ? 'block' : 'none';\n",
              "\n",
              "        async function convertToInteractive(key) {\n",
              "          const element = document.querySelector('#df-ac3fc16f-3509-4c7a-afca-9d38c666faeb');\n",
              "          const dataTable =\n",
              "            await google.colab.kernel.invokeFunction('convertToInteractive',\n",
              "                                                     [key], {});\n",
              "          if (!dataTable) return;\n",
              "\n",
              "          const docLinkHtml = 'Like what you see? Visit the ' +\n",
              "            '<a target=\"_blank\" href=https://colab.research.google.com/notebooks/data_table.ipynb>data table notebook</a>'\n",
              "            + ' to learn more about interactive tables.';\n",
              "          element.innerHTML = '';\n",
              "          dataTable['output_type'] = 'display_data';\n",
              "          await google.colab.output.renderOutput(dataTable, element);\n",
              "          const docLink = document.createElement('div');\n",
              "          docLink.innerHTML = docLinkHtml;\n",
              "          element.appendChild(docLink);\n",
              "        }\n",
              "      </script>\n",
              "    </div>\n",
              "  </div>\n",
              "  "
            ]
          },
          "metadata": {},
          "execution_count": 22
        }
      ]
    },
    {
      "cell_type": "markdown",
      "source": [
        "# Train Test Split"
      ],
      "metadata": {
        "id": "VieQ4nEZhmTT"
      }
    },
    {
      "cell_type": "code",
      "source": [
        "X_train, X_test, y_train, y_test = train_test_split( train_data, y, test_size=0.33, random_state=42)"
      ],
      "metadata": {
        "id": "bsibYDK-hpTw"
      },
      "execution_count": 23,
      "outputs": []
    },
    {
      "cell_type": "markdown",
      "source": [
        "# Model Experiment"
      ],
      "metadata": {
        "id": "ME4x1VXCht1w"
      }
    },
    {
      "cell_type": "code",
      "source": [
        "model_list=[]\n",
        "score=[]"
      ],
      "metadata": {
        "id": "Pr6iJI14hv8M"
      },
      "execution_count": 24,
      "outputs": []
    },
    {
      "cell_type": "code",
      "source": [
        "# K Neighbors Classifier\n",
        "\n",
        "kn_clf = KNeighborsClassifier(n_neighbors=6)\n",
        "kn_clf.fit(X_train,y_train)\n",
        "y_pred=pd.DataFrame(kn_clf.predict_proba(X_test))[1].values\n",
        "score.append(roc_auc_score(y_test,y_pred))\n",
        "model_list.append('K Neighbors Classifier')\n",
        "print(\"AUC score:\",roc_auc_score(y_test,y_pred)*100)\n",
        "print(metrics.classification_report(y_test, kn_clf.predict(X_test), digits = 3))\n",
        "\n",
        "\n",
        "cm = confusion_matrix(y_test, kn_clf.predict(X_test))\n",
        "cmd = ConfusionMatrixDisplay(cm)\n",
        "cmd.plot();"
      ],
      "metadata": {
        "colab": {
          "base_uri": "https://localhost:8080/",
          "height": 453
        },
        "id": "zYGgIfxAh3sg",
        "outputId": "9dfc55db-9043-4f7d-82b2-30589726aa57"
      },
      "execution_count": 25,
      "outputs": [
        {
          "output_type": "stream",
          "name": "stdout",
          "text": [
            "AUC score: 79.57998127909329\n",
            "              precision    recall  f1-score   support\n",
            "\n",
            "           0      0.884     0.967     0.924      7808\n",
            "           1      0.684     0.357     0.469      1539\n",
            "\n",
            "    accuracy                          0.867      9347\n",
            "   macro avg      0.784     0.662     0.697      9347\n",
            "weighted avg      0.851     0.867     0.849      9347\n",
            "\n"
          ]
        },
        {
          "output_type": "display_data",
          "data": {
            "text/plain": [
              "<Figure size 432x288 with 2 Axes>"
            ],
            "image/png": "[encoded data removed]"
          },
          "metadata": {
            "needs_background": "light"
          }
        }
      ]
    },
    {
      "cell_type": "code",
      "source": [
        "# RF\n",
        "clf_rf = RandomForestClassifier()      \n",
        "clf_rf.fit(X_train,y_train)\n",
        "y_pred=pd.DataFrame(clf_rf.predict_proba(X_test))[1].values\n",
        "score.append(roc_auc_score(y_test,y_pred))\n",
        "model_list.append('Random Forest Classifier')\n",
        "print(\"AUC score:\",roc_auc_score(y_test,y_pred)*100)\n",
        "print(metrics.classification_report(y_test, clf_rf.predict(X_test), digits = 3))\n",
        "\n",
        "\n",
        "cm = confusion_matrix(y_test, clf_rf.predict(X_test))\n",
        "cmd = ConfusionMatrixDisplay(cm)\n",
        "cmd.plot();"
      ],
      "metadata": {
        "colab": {
          "base_uri": "https://localhost:8080/",
          "height": 453
        },
        "id": "MtUKszRrh-sp",
        "outputId": "7c012350-5d28-4659-d22e-57fb1186b7c9"
      },
      "execution_count": 26,
      "outputs": [
        {
          "output_type": "stream",
          "name": "stdout",
          "text": [
            "AUC score: 86.28508006316639\n",
            "              precision    recall  f1-score   support\n",
            "\n",
            "           0      0.901     0.965     0.932      7808\n",
            "           1      0.723     0.463     0.564      1539\n",
            "\n",
            "    accuracy                          0.882      9347\n",
            "   macro avg      0.812     0.714     0.748      9347\n",
            "weighted avg      0.872     0.882     0.871      9347\n",
            "\n"
          ]
        },
        {
          "output_type": "display_data",
          "data": {
            "text/plain": [
              "<Figure size 432x288 with 2 Axes>"
            ],
            "image/png": "[encoded data removed]"
          },
          "metadata": {
            "needs_background": "light"
          }
        }
      ]
    },
    {
      "cell_type": "code",
      "source": [
        "# logistic regression\n",
        "\n",
        "log_reg = LogisticRegression()\n",
        "log_reg.fit(X_train,y_train)\n",
        "y_pred=pd.DataFrame(log_reg.predict_proba(X_test))[1].values\n",
        "score.append(roc_auc_score(y_test,y_pred))\n",
        "model_list.append('logistic regression')\n",
        "print(\"AUC score:\",roc_auc_score(y_test,y_pred)*100)\n",
        "print(metrics.classification_report(y_test, log_reg.predict(X_test), digits = 3))\n",
        "\n",
        "cm = confusion_matrix(y_test,  log_reg.predict(X_test))\n",
        "cmd = ConfusionMatrixDisplay(cm)\n",
        "cmd.plot();"
      ],
      "metadata": {
        "colab": {
          "base_uri": "https://localhost:8080/",
          "height": 591
        },
        "id": "3-pYnv-oiMh-",
        "outputId": "0befbd5d-035c-4427-ce2c-39d84058ff34"
      },
      "execution_count": 27,
      "outputs": [
        {
          "output_type": "stream",
          "name": "stderr",
          "text": [
            "/usr/local/lib/python3.7/dist-packages/sklearn/linear_model/_logistic.py:818: ConvergenceWarning: lbfgs failed to converge (status=1):\n",
            "STOP: TOTAL NO. of ITERATIONS REACHED LIMIT.\n",
            "\n",
            "Increase the number of iterations (max_iter) or scale the data as shown in:\n",
            "    https://scikit-learn.org/stable/modules/preprocessing.html\n",
            "Please also refer to the documentation for alternative solver options:\n",
            "    https://scikit-learn.org/stable/modules/linear_model.html#logistic-regression\n",
            "  extra_warning_msg=_LOGISTIC_SOLVER_CONVERGENCE_MSG,\n"
          ]
        },
        {
          "output_type": "stream",
          "name": "stdout",
          "text": [
            "AUC score: 86.0612547135142\n",
            "              precision    recall  f1-score   support\n",
            "\n",
            "           0      0.903     0.959     0.930      7808\n",
            "           1      0.696     0.476     0.565      1539\n",
            "\n",
            "    accuracy                          0.879      9347\n",
            "   macro avg      0.799     0.717     0.748      9347\n",
            "weighted avg      0.869     0.879     0.870      9347\n",
            "\n"
          ]
        },
        {
          "output_type": "display_data",
          "data": {
            "text/plain": [
              "<Figure size 432x288 with 2 Axes>"
            ],
            "image/png": "[encoded data removed]"
          },
          "metadata": {
            "needs_background": "light"
          }
        }
      ]
    },
    {
      "cell_type": "code",
      "source": [
        "####### takes too much time, about 4 minutes :()\n",
        "# # svc\n",
        "\n",
        "# clf_svm = SVC(gamma='auto',probability=True,class_weight='balanced')\n",
        "# clf_svm.fit(X_train,y_train)\n",
        "# y_pred = pd.DataFrame(clf_svm.predict_proba(X_test))[1].values\n",
        "# score.append(roc_auc_score(y_test,y_pred))\n",
        "# model_list.append('SVM')\n",
        "# print(\"AUC score:\",roc_auc_score(y_test,y_pred)*100)\n",
        "# print(metrics.classification_report(y_test, clf_svm.predict(X_test), digits = 3))\n",
        "\n",
        "# cm = confusion_matrix(y_test,  clf_svm.predict(X_test))\n",
        "# cmd = ConfusionMatrixDisplay(cm)\n",
        "# cmd.plot();"
      ],
      "metadata": {
        "id": "JoUvCctHijRF"
      },
      "execution_count": 28,
      "outputs": []
    },
    {
      "cell_type": "code",
      "source": [
        "#DT\n",
        "dt_clf = DecisionTreeClassifier(max_leaf_nodes=10, random_state=0, criterion='entropy')\n",
        "dt_clf.fit(X_train,y_train)\n",
        "y_pred=pd.DataFrame(dt_clf.predict_proba(X_test))[1].values\n",
        "score.append(roc_auc_score(y_test,y_pred))\n",
        "model_list.append('Decission Tree')\n",
        "print(\"AUC score:\",roc_auc_score(y_test,y_pred)*100)\n",
        "print(metrics.classification_report(y_test, dt_clf.predict(X_test), digits = 3))\n",
        "\n",
        "cm = confusion_matrix(y_test, dt_clf.predict(X_test))\n",
        "cmd = ConfusionMatrixDisplay(cm)\n",
        "cmd.plot();"
      ],
      "metadata": {
        "colab": {
          "base_uri": "https://localhost:8080/",
          "height": 453
        },
        "id": "xmUHK6WmjDly",
        "outputId": "e10f07c0-4e05-41f6-cec0-3c55da939b3f"
      },
      "execution_count": 29,
      "outputs": [
        {
          "output_type": "stream",
          "name": "stdout",
          "text": [
            "AUC score: 84.01960985017949\n",
            "              precision    recall  f1-score   support\n",
            "\n",
            "           0      0.908     0.946     0.927      7808\n",
            "           1      0.652     0.511     0.573      1539\n",
            "\n",
            "    accuracy                          0.875      9347\n",
            "   macro avg      0.780     0.729     0.750      9347\n",
            "weighted avg      0.865     0.875     0.868      9347\n",
            "\n"
          ]
        },
        {
          "output_type": "display_data",
          "data": {
            "text/plain": [
              "<Figure size 432x288 with 2 Axes>"
            ],
            "image/png": "[encoded data removed]"
          },
          "metadata": {
            "needs_background": "light"
          }
        }
      ]
    },
    {
      "cell_type": "code",
      "source": [
        "#  lightgbm \n",
        "import lightgbm\n",
        "lgb_clf = lightgbm.LGBMClassifier(max_depth=2, random_state=4)\n",
        "lgb_clf.fit(X_train,y_train)\n",
        "y_pred=pd.DataFrame(lgb_clf.predict_proba(X_test))[1].values\n",
        "score.append(roc_auc_score(y_test,y_pred))\n",
        "model_list.append('lightgbm')\n",
        "print(\"AUC score:\",roc_auc_score(y_test,y_pred)*100)\n",
        "print(metrics.classification_report(y_test, lgb_clf.predict(X_test), digits = 3))\n",
        "\n",
        "cm = confusion_matrix(y_test, lgb_clf.predict(X_test))\n",
        "cmd = ConfusionMatrixDisplay(cm)\n",
        "cmd.plot();"
      ],
      "metadata": {
        "colab": {
          "base_uri": "https://localhost:8080/",
          "height": 453
        },
        "id": "zEnM8bhijR7Y",
        "outputId": "015a6e26-1f4b-46d4-a229-970e5e6fa93e"
      },
      "execution_count": 30,
      "outputs": [
        {
          "output_type": "stream",
          "name": "stdout",
          "text": [
            "AUC score: 87.19862302804674\n",
            "              precision    recall  f1-score   support\n",
            "\n",
            "           0      0.905     0.964     0.934      7808\n",
            "           1      0.726     0.487     0.583      1539\n",
            "\n",
            "    accuracy                          0.885      9347\n",
            "   macro avg      0.816     0.725     0.758      9347\n",
            "weighted avg      0.876     0.885     0.876      9347\n",
            "\n"
          ]
        },
        {
          "output_type": "display_data",
          "data": {
            "text/plain": [
              "<Figure size 432x288 with 2 Axes>"
            ],
            "image/png": "[encoded data removed]"
          },
          "metadata": {
            "needs_background": "light"
          }
        }
      ]
    },
    {
      "cell_type": "code",
      "source": [
        "# quick experiment on oversampling\n",
        "\n",
        "from imblearn.over_sampling import BorderlineSMOTE\n",
        "from imblearn.over_sampling import SMOTE\n",
        "\n",
        "bsmote = BorderlineSMOTE(random_state = 101, kind = 'borderline-1')\n",
        "X_train_oversampled, y_train_oversampled = bsmote.fit_resample(X_train, y_train)\n",
        "\n",
        "from imblearn.combine import SMOTETomek,SMOTEENN\n",
        "bsmote = SMOTE(random_state=42)\n",
        "X_train_oversampled, y_train_oversampled = bsmote.fit_resample(X_train, y_train)\n",
        "\n",
        "\n",
        "import lightgbm\n",
        "lgb_clf = lightgbm.LGBMClassifier(max_depth=2, random_state=4)\n",
        "lgb_clf.fit(X_train_oversampled,y_train_oversampled)\n",
        "y_pred=pd.DataFrame(lgb_clf.predict_proba(X_test))[1].values\n",
        "score.append(roc_auc_score(y_test,y_pred))\n",
        "model_list.append('lightgbm')\n",
        "print(\"AUC score:\",roc_auc_score(y_test,y_pred)*100)\n",
        "print(metrics.classification_report(y_test, lgb_clf.predict(X_test), digits = 3))\n",
        "\n",
        "cm = confusion_matrix(y_test, lgb_clf.predict(X_test))\n",
        "cmd = ConfusionMatrixDisplay(cm)\n",
        "cmd.plot();"
      ],
      "metadata": {
        "colab": {
          "base_uri": "https://localhost:8080/",
          "height": 453
        },
        "id": "oOdoMtKKrwyh",
        "outputId": "0e11105d-7a70-4302-904f-9758fcde7b7c"
      },
      "execution_count": 31,
      "outputs": [
        {
          "output_type": "stream",
          "name": "stdout",
          "text": [
            "AUC score: 85.40541964257183\n",
            "              precision    recall  f1-score   support\n",
            "\n",
            "           0      0.936     0.848     0.890      7808\n",
            "           1      0.478     0.707     0.571      1539\n",
            "\n",
            "    accuracy                          0.825      9347\n",
            "   macro avg      0.707     0.777     0.730      9347\n",
            "weighted avg      0.861     0.825     0.837      9347\n",
            "\n"
          ]
        },
        {
          "output_type": "display_data",
          "data": {
            "text/plain": [
              "<Figure size 432x288 with 2 Axes>"
            ],
            "image/png": "[encoded data removed]"
          },
          "metadata": {
            "needs_background": "light"
          }
        }
      ]
    },
    {
      "cell_type": "code",
      "source": [
        ""
      ],
      "metadata": {
        "id": "5lMcFaisv44Z"
      },
      "execution_count": 31,
      "outputs": []
    },
    {
      "cell_type": "code",
      "source": [
        "#catboost\n",
        "\n",
        "from catboost import CatBoostClassifier\n",
        "cat_model = CatBoostClassifier(iterations=100,depth=10,random_state=42,auto_class_weights='Balanced')\n",
        "cat_model.fit(X_train,y_train)\n",
        "y_pred=pd.DataFrame(cat_model.predict_proba(X_test))[1].values\n",
        "score.append(roc_auc_score(y_test,y_pred))\n",
        "model_list.append('catboost')\n",
        "print(\"AUC score:\",roc_auc_score(y_test,y_pred)*100)\n",
        "print(metrics.classification_report(y_test, cat_model.predict(X_test), digits = 3))\n",
        "\n",
        "cm = confusion_matrix(y_test, cat_model.predict(X_test))\n",
        "cmd = ConfusionMatrixDisplay(cm)\n",
        "cmd.plot();"
      ],
      "metadata": {
        "colab": {
          "base_uri": "https://localhost:8080/",
          "height": 1000
        },
        "id": "5h0ntOzXjVa5",
        "outputId": "3f151207-4cd5-4884-fcc1-b4c4a5876b74"
      },
      "execution_count": 32,
      "outputs": [
        {
          "output_type": "stream",
          "name": "stdout",
          "text": [
            "Learning rate set to 0.299032\n",
            "0:\tlearn: 0.5674993\ttotal: 114ms\tremaining: 11.3s\n",
            "1:\tlearn: 0.4925776\ttotal: 168ms\tremaining: 8.24s\n",
            "2:\tlearn: 0.4611535\ttotal: 230ms\tremaining: 7.45s\n",
            "3:\tlearn: 0.4441275\ttotal: 291ms\tremaining: 6.99s\n",
            "4:\tlearn: 0.4263857\ttotal: 345ms\tremaining: 6.56s\n",
            "5:\tlearn: 0.4141764\ttotal: 394ms\tremaining: 6.17s\n",
            "6:\tlearn: 0.4015658\ttotal: 447ms\tremaining: 5.93s\n",
            "7:\tlearn: 0.3927601\ttotal: 496ms\tremaining: 5.71s\n",
            "8:\tlearn: 0.3863184\ttotal: 549ms\tremaining: 5.55s\n",
            "9:\tlearn: 0.3801040\ttotal: 604ms\tremaining: 5.44s\n",
            "10:\tlearn: 0.3726166\ttotal: 657ms\tremaining: 5.31s\n",
            "11:\tlearn: 0.3677286\ttotal: 705ms\tremaining: 5.17s\n",
            "12:\tlearn: 0.3598299\ttotal: 753ms\tremaining: 5.04s\n",
            "13:\tlearn: 0.3570978\ttotal: 802ms\tremaining: 4.93s\n",
            "14:\tlearn: 0.3471119\ttotal: 854ms\tremaining: 4.84s\n",
            "15:\tlearn: 0.3469573\ttotal: 866ms\tremaining: 4.55s\n",
            "16:\tlearn: 0.3429875\ttotal: 916ms\tremaining: 4.47s\n",
            "17:\tlearn: 0.3343549\ttotal: 966ms\tremaining: 4.4s\n",
            "18:\tlearn: 0.3250208\ttotal: 1.02s\tremaining: 4.34s\n",
            "19:\tlearn: 0.3210208\ttotal: 1.07s\tremaining: 4.27s\n",
            "20:\tlearn: 0.3152200\ttotal: 1.12s\tremaining: 4.21s\n",
            "21:\tlearn: 0.3112969\ttotal: 1.17s\tremaining: 4.14s\n",
            "22:\tlearn: 0.3075626\ttotal: 1.22s\tremaining: 4.08s\n",
            "23:\tlearn: 0.3038108\ttotal: 1.27s\tremaining: 4.03s\n",
            "24:\tlearn: 0.2977826\ttotal: 1.36s\tremaining: 4.07s\n",
            "25:\tlearn: 0.2906480\ttotal: 1.41s\tremaining: 4.02s\n",
            "26:\tlearn: 0.2857214\ttotal: 1.47s\tremaining: 3.98s\n",
            "27:\tlearn: 0.2769189\ttotal: 1.53s\tremaining: 3.93s\n",
            "28:\tlearn: 0.2722385\ttotal: 1.57s\tremaining: 3.86s\n",
            "29:\tlearn: 0.2690570\ttotal: 1.62s\tremaining: 3.79s\n",
            "30:\tlearn: 0.2642314\ttotal: 1.68s\tremaining: 3.73s\n",
            "31:\tlearn: 0.2614517\ttotal: 1.72s\tremaining: 3.67s\n",
            "32:\tlearn: 0.2548027\ttotal: 1.78s\tremaining: 3.61s\n",
            "33:\tlearn: 0.2508954\ttotal: 1.83s\tremaining: 3.55s\n",
            "34:\tlearn: 0.2462416\ttotal: 1.88s\tremaining: 3.48s\n",
            "35:\tlearn: 0.2432302\ttotal: 1.93s\tremaining: 3.43s\n",
            "36:\tlearn: 0.2396324\ttotal: 1.99s\tremaining: 3.39s\n",
            "37:\tlearn: 0.2351175\ttotal: 2.05s\tremaining: 3.34s\n",
            "38:\tlearn: 0.2309858\ttotal: 2.1s\tremaining: 3.29s\n",
            "39:\tlearn: 0.2284988\ttotal: 2.15s\tremaining: 3.23s\n",
            "40:\tlearn: 0.2252365\ttotal: 2.21s\tremaining: 3.19s\n",
            "41:\tlearn: 0.2214627\ttotal: 2.27s\tremaining: 3.13s\n",
            "42:\tlearn: 0.2182988\ttotal: 2.34s\tremaining: 3.1s\n",
            "43:\tlearn: 0.2153261\ttotal: 2.4s\tremaining: 3.05s\n",
            "44:\tlearn: 0.2122931\ttotal: 2.46s\tremaining: 3s\n",
            "45:\tlearn: 0.2088883\ttotal: 2.51s\tremaining: 2.95s\n",
            "46:\tlearn: 0.2035403\ttotal: 2.57s\tremaining: 2.9s\n",
            "47:\tlearn: 0.2000616\ttotal: 2.63s\tremaining: 2.85s\n",
            "48:\tlearn: 0.1979381\ttotal: 2.69s\tremaining: 2.8s\n",
            "49:\tlearn: 0.1944983\ttotal: 2.74s\tremaining: 2.74s\n",
            "50:\tlearn: 0.1922318\ttotal: 2.8s\tremaining: 2.69s\n",
            "51:\tlearn: 0.1876084\ttotal: 2.85s\tremaining: 2.64s\n",
            "52:\tlearn: 0.1840146\ttotal: 2.92s\tremaining: 2.59s\n",
            "53:\tlearn: 0.1804198\ttotal: 2.97s\tremaining: 2.53s\n",
            "54:\tlearn: 0.1763058\ttotal: 3.03s\tremaining: 2.48s\n",
            "55:\tlearn: 0.1728138\ttotal: 3.09s\tremaining: 2.42s\n",
            "56:\tlearn: 0.1703385\ttotal: 3.15s\tremaining: 2.38s\n",
            "57:\tlearn: 0.1674430\ttotal: 3.21s\tremaining: 2.32s\n",
            "58:\tlearn: 0.1655820\ttotal: 3.26s\tremaining: 2.26s\n",
            "59:\tlearn: 0.1626381\ttotal: 3.32s\tremaining: 2.21s\n",
            "60:\tlearn: 0.1590692\ttotal: 3.41s\tremaining: 2.18s\n",
            "61:\tlearn: 0.1571907\ttotal: 3.47s\tremaining: 2.13s\n",
            "62:\tlearn: 0.1528099\ttotal: 3.52s\tremaining: 2.07s\n",
            "63:\tlearn: 0.1500798\ttotal: 3.58s\tremaining: 2.01s\n",
            "64:\tlearn: 0.1481849\ttotal: 3.63s\tremaining: 1.96s\n",
            "65:\tlearn: 0.1446101\ttotal: 3.69s\tremaining: 1.9s\n",
            "66:\tlearn: 0.1421604\ttotal: 3.75s\tremaining: 1.84s\n",
            "67:\tlearn: 0.1408742\ttotal: 3.8s\tremaining: 1.79s\n",
            "68:\tlearn: 0.1385478\ttotal: 3.86s\tremaining: 1.73s\n",
            "69:\tlearn: 0.1356028\ttotal: 3.91s\tremaining: 1.68s\n",
            "70:\tlearn: 0.1338830\ttotal: 3.96s\tremaining: 1.62s\n",
            "71:\tlearn: 0.1321921\ttotal: 4.02s\tremaining: 1.56s\n",
            "72:\tlearn: 0.1305703\ttotal: 4.09s\tremaining: 1.51s\n",
            "73:\tlearn: 0.1282682\ttotal: 4.14s\tremaining: 1.46s\n",
            "74:\tlearn: 0.1268465\ttotal: 4.2s\tremaining: 1.4s\n",
            "75:\tlearn: 0.1244354\ttotal: 4.25s\tremaining: 1.34s\n",
            "76:\tlearn: 0.1222727\ttotal: 4.32s\tremaining: 1.29s\n",
            "77:\tlearn: 0.1207876\ttotal: 4.38s\tremaining: 1.23s\n",
            "78:\tlearn: 0.1189839\ttotal: 4.44s\tremaining: 1.18s\n",
            "79:\tlearn: 0.1175342\ttotal: 4.5s\tremaining: 1.12s\n",
            "80:\tlearn: 0.1156840\ttotal: 4.56s\tremaining: 1.07s\n",
            "81:\tlearn: 0.1144803\ttotal: 4.62s\tremaining: 1.01s\n",
            "82:\tlearn: 0.1127790\ttotal: 4.67s\tremaining: 957ms\n",
            "83:\tlearn: 0.1114043\ttotal: 4.74s\tremaining: 903ms\n",
            "84:\tlearn: 0.1099458\ttotal: 4.8s\tremaining: 847ms\n",
            "85:\tlearn: 0.1087879\ttotal: 4.85s\tremaining: 790ms\n",
            "86:\tlearn: 0.1078239\ttotal: 4.91s\tremaining: 733ms\n",
            "87:\tlearn: 0.1062555\ttotal: 4.96s\tremaining: 677ms\n",
            "88:\tlearn: 0.1036060\ttotal: 5.02s\tremaining: 621ms\n",
            "89:\tlearn: 0.1024936\ttotal: 5.08s\tremaining: 564ms\n",
            "90:\tlearn: 0.1019324\ttotal: 5.13s\tremaining: 507ms\n",
            "91:\tlearn: 0.1006534\ttotal: 5.19s\tremaining: 451ms\n",
            "92:\tlearn: 0.0987516\ttotal: 5.25s\tremaining: 395ms\n",
            "93:\tlearn: 0.0975400\ttotal: 5.31s\tremaining: 339ms\n",
            "94:\tlearn: 0.0967469\ttotal: 5.37s\tremaining: 282ms\n",
            "95:\tlearn: 0.0957107\ttotal: 5.44s\tremaining: 227ms\n",
            "96:\tlearn: 0.0942431\ttotal: 5.5s\tremaining: 170ms\n",
            "97:\tlearn: 0.0921829\ttotal: 5.56s\tremaining: 113ms\n",
            "98:\tlearn: 0.0908384\ttotal: 5.62s\tremaining: 56.7ms\n",
            "99:\tlearn: 0.0889384\ttotal: 5.67s\tremaining: 0us\n",
            "AUC score: 84.82412367249333\n",
            "              precision    recall  f1-score   support\n",
            "\n",
            "           0      0.922     0.910     0.916      7808\n",
            "           1      0.571     0.607     0.588      1539\n",
            "\n",
            "    accuracy                          0.860      9347\n",
            "   macro avg      0.746     0.758     0.752      9347\n",
            "weighted avg      0.864     0.860     0.862      9347\n",
            "\n"
          ]
        },
        {
          "output_type": "display_data",
          "data": {
            "text/plain": [
              "<Figure size 432x288 with 2 Axes>"
            ],
            "image/png": "[encoded data removed]"
          },
          "metadata": {
            "needs_background": "light"
          }
        }
      ]
    },
    {
      "cell_type": "code",
      "source": [
        "# xgbrf classifier\n",
        "import xgboost\n",
        "xgb_clf = xgboost.XGBRFClassifier(max_depth=4, random_state=1,n_estimators=500)\n",
        "xgb_clf.fit(X_train,y_train)\n",
        "y_pred=pd.DataFrame(xgb_clf.predict_proba(X_test))[1].values\n",
        "score.append(roc_auc_score(y_test,y_pred))\n",
        "model_list.append('xgbrf classifier')\n",
        "print(\"AUC score:\",roc_auc_score(y_test,y_pred)*100)\n",
        "print(metrics.classification_report(y_test, xgb_clf.predict(X_test), digits = 3))\n",
        "\n",
        "cm = confusion_matrix(y_test, xgb_clf.predict(X_test))\n",
        "cmd = ConfusionMatrixDisplay(cm)\n",
        "cmd.plot();"
      ],
      "metadata": {
        "colab": {
          "base_uri": "https://localhost:8080/",
          "height": 453
        },
        "id": "dsM_xbCWjrnt",
        "outputId": "cb68f320-684e-4f4c-b4fc-94bc64c4c7fe"
      },
      "execution_count": 33,
      "outputs": [
        {
          "output_type": "stream",
          "name": "stdout",
          "text": [
            "AUC score: 85.40968460731366\n",
            "              precision    recall  f1-score   support\n",
            "\n",
            "           0      0.907     0.946     0.927      7808\n",
            "           1      0.653     0.510     0.573      1539\n",
            "\n",
            "    accuracy                          0.875      9347\n",
            "   macro avg      0.780     0.728     0.750      9347\n",
            "weighted avg      0.865     0.875     0.868      9347\n",
            "\n"
          ]
        },
        {
          "output_type": "display_data",
          "data": {
            "text/plain": [
              "<Figure size 432x288 with 2 Axes>"
            ],
            "image/png": "[encoded data removed]"
          },
          "metadata": {
            "needs_background": "light"
          }
        }
      ]
    },
    {
      "cell_type": "markdown",
      "source": [
        "# Comparison of models"
      ],
      "metadata": {
        "id": "WJ3DejqgkS0i"
      }
    },
    {
      "cell_type": "code",
      "source": [
        "plt.rcParams['figure.figsize']=20,8\n",
        "sns.set_style('darkgrid')\n",
        "ax = sns.barplot(x=model_list, y=score, palette = \"husl\", saturation =2.0)\n",
        "plt.xlabel('Classifier Models', fontsize = 20 )\n",
        "plt.ylabel('% of Accuracy', fontsize = 20)\n",
        "plt.title('Accuracy of different Classifier Models', fontsize = 20)\n",
        "plt.xticks(fontsize = 12, horizontalalignment = 'center', rotation = 8)\n",
        "plt.yticks(fontsize = 12)\n",
        "for i in ax.patches:\n",
        "    width, height = i.get_width(), i.get_height()\n",
        "    x, y = i.get_xy() \n",
        "    ax.annotate(f'{round(height,2)}%', (x + width/2, y + height*1.02), ha='center', fontsize = 'x-large')\n",
        "plt.show()"
      ],
      "metadata": {
        "colab": {
          "base_uri": "https://localhost:8080/",
          "height": 520
        },
        "id": "xcDHoMyhkQ2r",
        "outputId": "72efba2d-1d4f-458d-b611-a8ae4164c13a"
      },
      "execution_count": 34,
      "outputs": [
        {
          "output_type": "display_data",
          "data": {
            "text/plain": [
              "<Figure size 1440x576 with 1 Axes>"
            ],
            "image/png": "[encoded data removed]"
          },
          "metadata": {}
        }
      ]
    },
    {
      "cell_type": "code",
      "source": [
        ""
      ],
      "metadata": {
        "id": "3_vFfZkLkVLA"
      },
      "execution_count": 34,
      "outputs": []
    }
  ]
}